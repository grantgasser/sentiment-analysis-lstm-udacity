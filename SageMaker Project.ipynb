{
 "cells": [
  {
   "cell_type": "markdown",
   "metadata": {},
   "source": [
    "# Creating a Sentiment Analysis Web App\n",
    "## Using PyTorch and SageMaker\n",
    "\n",
    "_Deep Learning Nanodegree Program | Deployment_\n",
    "\n",
    "---\n",
    "\n",
    "Now that we have a basic understanding of how SageMaker works we will try to use it to construct a complete project from end to end. Our goal will be to have a simple web page which a user can use to enter a movie review. The web page will then send the review off to our deployed model which will predict the sentiment of the entered review.\n",
    "\n",
    "## Instructions\n",
    "\n",
    "Some template code has already been provided for you, and you will need to implement additional functionality to successfully complete this notebook. You will not need to modify the included code beyond what is requested. Sections that begin with '**TODO**' in the header indicate that you need to complete or implement some portion within them. Instructions will be provided for each section and the specifics of the implementation are marked in the code block with a `# TODO: ...` comment. Please be sure to read the instructions carefully!\n",
    "\n",
    "In addition to implementing code, there will be questions for you to answer which relate to the task and your implementation. Each section where you will answer a question is preceded by a '**Question:**' header. Carefully read each question and provide your answer below the '**Answer:**' header by editing the Markdown cell.\n",
    "\n",
    "> **Note**: Code and Markdown cells can be executed using the **Shift+Enter** keyboard shortcut. In addition, a cell can be edited by typically clicking it (double-click for Markdown cells) or by pressing **Enter** while it is highlighted.\n",
    "\n",
    "## General Outline\n",
    "\n",
    "Recall the general outline for SageMaker projects using a notebook instance.\n",
    "\n",
    "1. Download or otherwise retrieve the data.\n",
    "2. Process / Prepare the data.\n",
    "3. Upload the processed data to S3.\n",
    "4. Train a chosen model.\n",
    "5. Test the trained model (typically using a batch transform job).\n",
    "6. Deploy the trained model.\n",
    "7. Use the deployed model.\n",
    "\n",
    "For this project, you will be following the steps in the general outline with some modifications. \n",
    "\n",
    "First, you will not be testing the model in its own step. You will still be testing the model, however, you will do it by deploying your model and then using the deployed model by sending the test data to it. One of the reasons for doing this is so that you can make sure that your deployed model is working correctly before moving forward.\n",
    "\n",
    "In addition, you will deploy and use your trained model a second time. In the second iteration you will customize the way that your trained model is deployed by including some of your own code. In addition, your newly deployed model will be used in the sentiment analysis web app."
   ]
  },
  {
   "cell_type": "markdown",
   "metadata": {},
   "source": [
    "## Step 1: Downloading the data\n",
    "\n",
    "As in the XGBoost in SageMaker notebook, we will be using the [IMDb dataset](http://ai.stanford.edu/~amaas/data/sentiment/)\n",
    "\n",
    "> Maas, Andrew L., et al. [Learning Word Vectors for Sentiment Analysis](http://ai.stanford.edu/~amaas/data/sentiment/). In _Proceedings of the 49th Annual Meeting of the Association for Computational Linguistics: Human Language Technologies_. Association for Computational Linguistics, 2011."
   ]
  },
  {
   "cell_type": "code",
   "execution_count": 1,
   "metadata": {},
   "outputs": [
    {
     "name": "stdout",
     "output_type": "stream",
     "text": [
      "mkdir: cannot create directory ‘../data’: File exists\n",
      "--2019-06-27 23:57:25--  http://ai.stanford.edu/~amaas/data/sentiment/aclImdb_v1.tar.gz\n",
      "Resolving ai.stanford.edu (ai.stanford.edu)... 171.64.68.10\n",
      "Connecting to ai.stanford.edu (ai.stanford.edu)|171.64.68.10|:80... connected.\n",
      "HTTP request sent, awaiting response... 200 OK\n",
      "Length: 84125825 (80M) [application/x-gzip]\n",
      "Saving to: ‘../data/aclImdb_v1.tar.gz’\n",
      "\n",
      "../data/aclImdb_v1. 100%[===================>]  80.23M  23.6MB/s    in 4.9s    \n",
      "\n",
      "2019-06-27 23:57:30 (16.3 MB/s) - ‘../data/aclImdb_v1.tar.gz’ saved [84125825/84125825]\n",
      "\n"
     ]
    }
   ],
   "source": [
    "%mkdir ../data\n",
    "!wget -O ../data/aclImdb_v1.tar.gz http://ai.stanford.edu/~amaas/data/sentiment/aclImdb_v1.tar.gz\n",
    "!tar -zxf ../data/aclImdb_v1.tar.gz -C ../data"
   ]
  },
  {
   "cell_type": "markdown",
   "metadata": {},
   "source": [
    "## Step 2: Preparing and Processing the data\n",
    "\n",
    "Also, as in the XGBoost notebook, we will be doing some initial data processing. The first few steps are the same as in the XGBoost example. To begin with, we will read in each of the reviews and combine them into a single input structure. Then, we will split the dataset into a training set and a testing set."
   ]
  },
  {
   "cell_type": "code",
   "execution_count": 2,
   "metadata": {},
   "outputs": [],
   "source": [
    "import os\n",
    "import glob\n",
    "\n",
    "def read_imdb_data(data_dir='../data/aclImdb'):\n",
    "    data = {}\n",
    "    labels = {}\n",
    "    \n",
    "    for data_type in ['train', 'test']:\n",
    "        data[data_type] = {}\n",
    "        labels[data_type] = {}\n",
    "        \n",
    "        for sentiment in ['pos', 'neg']:\n",
    "            data[data_type][sentiment] = []\n",
    "            labels[data_type][sentiment] = []\n",
    "            \n",
    "            path = os.path.join(data_dir, data_type, sentiment, '*.txt')\n",
    "            files = glob.glob(path)\n",
    "            \n",
    "            for f in files:\n",
    "                with open(f) as review:\n",
    "                    data[data_type][sentiment].append(review.read())\n",
    "                    # Here we represent a positive review by '1' and a negative review by '0'\n",
    "                    labels[data_type][sentiment].append(1 if sentiment == 'pos' else 0)\n",
    "                    \n",
    "            assert len(data[data_type][sentiment]) == len(labels[data_type][sentiment]), \\\n",
    "                    \"{}/{} data size does not match labels size\".format(data_type, sentiment)\n",
    "                \n",
    "    return data, labels"
   ]
  },
  {
   "cell_type": "code",
   "execution_count": 3,
   "metadata": {},
   "outputs": [
    {
     "name": "stdout",
     "output_type": "stream",
     "text": [
      "IMDB reviews: train = 12500 pos / 12500 neg, test = 12500 pos / 12500 neg\n"
     ]
    }
   ],
   "source": [
    "data, labels = read_imdb_data()\n",
    "print(\"IMDB reviews: train = {} pos / {} neg, test = {} pos / {} neg\".format(\n",
    "            len(data['train']['pos']), len(data['train']['neg']),\n",
    "            len(data['test']['pos']), len(data['test']['neg'])))"
   ]
  },
  {
   "cell_type": "code",
   "execution_count": 4,
   "metadata": {},
   "outputs": [
    {
     "name": "stdout",
     "output_type": "stream",
     "text": [
      "This has to be THE WORST film I have ever seen. I bought the DVD and it didn't work, well the DVD worked fine, its just the film didn't, in fact its so bad that I think non of the actors have worked since (or before judging from the acting). There is no real plot to speak of and no real horror. The production values are rubbish even for a low budget film with some outside scenes being hard to hear due to wind on the microphone.<br /><br />All in all it was so bad a film that a viewer could think it was going to turn into a porno if they didn't know any better (which have been an improvement). There are only two lines in the film that are funny, both of which revolve around the transvestite prostitute. (Although they hardly merit watching all 76 minutes for)<br /><br />As for the marketing of the DVD I feel thoroughly cheated. I mean reading the back I expected it to be bad:<br /><br />He chose his weapons. He selected his victims. He picked his nose. He turned into a GIRL!<br /><br />But I thought it might be funny. Also the case claims it is digitally re mastered, I would love to have seen it beforehand, the print is so grainy you could use it as sand paper. The case also says it is an absolute disgusting movie, IN WHAT WAY?, disgusting production, acting.<br /><br />This film out stays it welcome in the first five minutes, (if you are considering buying this I would say buy `bad taste' instead it is a much better film and is funny, also it has Peter Jackson the director of the LOTR in it.)<br /><br />Incidentally if anyone knows anything about any of the actors (or director Patrick J Mathews) and what they have done since, please post here as I would love to know, purely to find out if there is a worse movie out there, or if anyone in this film ever bothered to learn to act\n"
     ]
    }
   ],
   "source": [
    "#print random review\n",
    "print(data['train']['neg'][0])"
   ]
  },
  {
   "cell_type": "markdown",
   "metadata": {},
   "source": [
    "Now that we've read the raw training and testing data from the downloaded dataset, we will combine the positive and negative reviews and shuffle the resulting records."
   ]
  },
  {
   "cell_type": "code",
   "execution_count": 5,
   "metadata": {},
   "outputs": [],
   "source": [
    "from sklearn.utils import shuffle\n",
    "\n",
    "def prepare_imdb_data(data, labels):\n",
    "    \"\"\"Prepare training and test sets from IMDb movie reviews.\"\"\"\n",
    "    \n",
    "    #Combine positive and negative reviews and labels\n",
    "    data_train = data['train']['pos'] + data['train']['neg']\n",
    "    data_test = data['test']['pos'] + data['test']['neg']\n",
    "    labels_train = labels['train']['pos'] + labels['train']['neg']\n",
    "    labels_test = labels['test']['pos'] + labels['test']['neg']\n",
    "    \n",
    "    #Shuffle reviews and corresponding labels within training and test sets\n",
    "    data_train, labels_train = shuffle(data_train, labels_train)\n",
    "    data_test, labels_test = shuffle(data_test, labels_test)\n",
    "    \n",
    "    # Return a unified training data, test data, training labels, test labets\n",
    "    return data_train, data_test, labels_train, labels_test"
   ]
  },
  {
   "cell_type": "code",
   "execution_count": 6,
   "metadata": {},
   "outputs": [
    {
     "name": "stdout",
     "output_type": "stream",
     "text": [
      "IMDb reviews (combined): train = 25000, test = 25000\n"
     ]
    }
   ],
   "source": [
    "train_X, test_X, train_y, test_y = prepare_imdb_data(data, labels)\n",
    "print(\"IMDb reviews (combined): train = {}, test = {}\".format(len(train_X), len(test_X)))"
   ]
  },
  {
   "cell_type": "markdown",
   "metadata": {},
   "source": [
    "Now that we have our training and testing sets unified and prepared, we should do a quick check and see an example of the data our model will be trained on. This is generally a good idea as it allows you to see how each of the further processing steps affects the reviews and it also ensures that the data has been loaded correctly."
   ]
  },
  {
   "cell_type": "code",
   "execution_count": 7,
   "metadata": {},
   "outputs": [
    {
     "name": "stdout",
     "output_type": "stream",
     "text": [
      "Good old black and white Graham Greene based people in dangerous times doing heroic and mysterious things. Hardly a shot fired or a punch thrown and a hundred time more interesting than the glop that's being minted by Hollywood today. Bacall lights up the screen of course and Boyer is entirely engaging. They don't make movies like this any more.\n",
      "1\n"
     ]
    }
   ],
   "source": [
    "print(train_X[100])\n",
    "print(train_y[100])"
   ]
  },
  {
   "cell_type": "markdown",
   "metadata": {},
   "source": [
    "The first step in processing the reviews is to make sure that any html tags that appear should be removed. In addition we wish to tokenize our input, that way words such as *entertained* and *entertaining* are considered the same with regard to sentiment analysis."
   ]
  },
  {
   "cell_type": "code",
   "execution_count": 8,
   "metadata": {},
   "outputs": [],
   "source": [
    "import nltk\n",
    "from nltk.corpus import stopwords\n",
    "from nltk.stem.porter import *\n",
    "\n",
    "import re\n",
    "from bs4 import BeautifulSoup\n",
    "\n",
    "def review_to_words(review):\n",
    "    nltk.download(\"stopwords\", quiet=True)\n",
    "    stemmer = PorterStemmer()\n",
    "    \n",
    "    text = BeautifulSoup(review, \"html.parser\").get_text() # Remove HTML tags\n",
    "    text = re.sub(r\"[^a-zA-Z0-9]\", \" \", text.lower()) # Convert to lower case\n",
    "    words = text.split() # Split string into words\n",
    "    words = [w for w in words if w not in stopwords.words(\"english\")] # Remove stopwords\n",
    "    words = [PorterStemmer().stem(w) for w in words] # stem\n",
    "    \n",
    "    return words"
   ]
  },
  {
   "cell_type": "markdown",
   "metadata": {},
   "source": [
    "The `review_to_words` method defined above uses `BeautifulSoup` to remove any html tags that appear and uses the `nltk` package to tokenize the reviews. As a check to ensure we know how everything is working, try applying `review_to_words` to one of the reviews in the training set."
   ]
  },
  {
   "cell_type": "code",
   "execution_count": 9,
   "metadata": {},
   "outputs": [
    {
     "data": {
      "text/plain": [
       "['good',\n",
       " 'old',\n",
       " 'black',\n",
       " 'white',\n",
       " 'graham',\n",
       " 'green',\n",
       " 'base',\n",
       " 'peopl',\n",
       " 'danger',\n",
       " 'time',\n",
       " 'heroic',\n",
       " 'mysteri',\n",
       " 'thing',\n",
       " 'hardli',\n",
       " 'shot',\n",
       " 'fire',\n",
       " 'punch',\n",
       " 'thrown',\n",
       " 'hundr',\n",
       " 'time',\n",
       " 'interest',\n",
       " 'glop',\n",
       " 'mint',\n",
       " 'hollywood',\n",
       " 'today',\n",
       " 'bacal',\n",
       " 'light',\n",
       " 'screen',\n",
       " 'cours',\n",
       " 'boyer',\n",
       " 'entir',\n",
       " 'engag',\n",
       " 'make',\n",
       " 'movi',\n",
       " 'like']"
      ]
     },
     "execution_count": 9,
     "metadata": {},
     "output_type": "execute_result"
    }
   ],
   "source": [
    "# TODO: Apply review_to_words to a review (train_X[100] or any other review)\n",
    "review_to_words(train_X[100])"
   ]
  },
  {
   "cell_type": "markdown",
   "metadata": {},
   "source": [
    "**Question:** Above we mentioned that `review_to_words` method removes html formatting and allows us to tokenize the words found in a review, for example, converting *entertained* and *entertaining* into *entertain* so that they are treated as though they are the same word. What else, if anything, does this method do to the input?"
   ]
  },
  {
   "cell_type": "markdown",
   "metadata": {},
   "source": [
    "**Answer:** After removing html tags, the method converts the words to lowercase. It calls split on the review which makes each word an element of a list (words). Then it removes stopwords (very common words) such as a, the, be, is, etc. Lastly, it stems the words."
   ]
  },
  {
   "cell_type": "markdown",
   "metadata": {},
   "source": [
    "The method below applies the `review_to_words` method to each of the reviews in the training and testing datasets. In addition it caches the results. This is because performing this processing step can take a long time. This way if you are unable to complete the notebook in the current session, you can come back without needing to process the data a second time."
   ]
  },
  {
   "cell_type": "code",
   "execution_count": 10,
   "metadata": {},
   "outputs": [],
   "source": [
    "import pickle\n",
    "\n",
    "cache_dir = os.path.join(\"../cache\", \"sentiment_analysis\")  # where to store cache files\n",
    "os.makedirs(cache_dir, exist_ok=True)  # ensure cache directory exists\n",
    "\n",
    "def preprocess_data(data_train, data_test, labels_train, labels_test,\n",
    "                    cache_dir=cache_dir, cache_file=\"preprocessed_data.pkl\"):\n",
    "    \"\"\"Convert each review to words; read from cache if available.\"\"\"\n",
    "\n",
    "    # If cache_file is not None, try to read from it first\n",
    "    cache_data = None\n",
    "    if cache_file is not None:\n",
    "        try:\n",
    "            with open(os.path.join(cache_dir, cache_file), \"rb\") as f:\n",
    "                cache_data = pickle.load(f)\n",
    "            print(\"Read preprocessed data from cache file:\", cache_file)\n",
    "        except:\n",
    "            pass  # unable to read from cache, but that's okay\n",
    "    \n",
    "    # If cache is missing, then do the heavy lifting\n",
    "    if cache_data is None:\n",
    "        # Preprocess training and test data to obtain words for each review\n",
    "        #words_train = list(map(review_to_words, data_train))\n",
    "        #words_test = list(map(review_to_words, data_test))\n",
    "        words_train = [review_to_words(review) for review in data_train]\n",
    "        words_test = [review_to_words(review) for review in data_test]\n",
    "        \n",
    "        # Write to cache file for future runs\n",
    "        if cache_file is not None:\n",
    "            cache_data = dict(words_train=words_train, words_test=words_test,\n",
    "                              labels_train=labels_train, labels_test=labels_test)\n",
    "            with open(os.path.join(cache_dir, cache_file), \"wb\") as f:\n",
    "                pickle.dump(cache_data, f)\n",
    "            print(\"Wrote preprocessed data to cache file:\", cache_file)\n",
    "    else:\n",
    "        # Unpack data loaded from cache file\n",
    "        words_train, words_test, labels_train, labels_test = (cache_data['words_train'],\n",
    "                cache_data['words_test'], cache_data['labels_train'], cache_data['labels_test'])\n",
    "    \n",
    "    return words_train, words_test, labels_train, labels_test"
   ]
  },
  {
   "cell_type": "code",
   "execution_count": 11,
   "metadata": {},
   "outputs": [
    {
     "name": "stdout",
     "output_type": "stream",
     "text": [
      "Read preprocessed data from cache file: preprocessed_data.pkl\n"
     ]
    }
   ],
   "source": [
    "# Preprocess data\n",
    "train_X, test_X, train_y, test_y = preprocess_data(train_X, test_X, train_y, test_y)"
   ]
  },
  {
   "cell_type": "markdown",
   "metadata": {},
   "source": [
    "## Transform the data\n",
    "\n",
    "In the XGBoost notebook we transformed the data from its word representation to a bag-of-words feature representation. For the model we are going to construct in this notebook we will construct a feature representation which is very similar. To start, we will represent each word as an integer. Of course, some of the words that appear in the reviews occur very infrequently and so likely don't contain much information for the purposes of sentiment analysis. The way we will deal with this problem is that we will fix the size of our working vocabulary and we will only include the words that appear most frequently. We will then combine all of the infrequent words into a single category and, in our case, we will label it as `1`.\n",
    "\n",
    "Since we will be using a recurrent neural network, it will be convenient if the length of each review is the same. To do this, we will fix a size for our reviews and then pad short reviews with the category 'no word' (which we will label `0`) and truncate long reviews."
   ]
  },
  {
   "cell_type": "markdown",
   "metadata": {},
   "source": [
    "### (TODO) Create a word dictionary\n",
    "\n",
    "To begin with, we need to construct a way to map words that appear in the reviews to integers. Here we fix the size of our vocabulary (including the 'no word' and 'infrequent' categories) to be `5000` but you may wish to change this to see how it affects the model.\n",
    "\n",
    "> **TODO:** Complete the implementation for the `build_dict()` method below. Note that even though the vocab_size is set to `5000`, we only want to construct a mapping for the most frequently appearing `4998` words. This is because we want to reserve the special labels `0` for 'no word' and `1` for 'infrequent word'."
   ]
  },
  {
   "cell_type": "code",
   "execution_count": 12,
   "metadata": {},
   "outputs": [
    {
     "name": "stdout",
     "output_type": "stream",
     "text": [
      "51857\n"
     ]
    }
   ],
   "source": [
    "train_X[100][0:5]\n",
    "\n",
    "test_dict = {}\n",
    "for sentence in train_X:\n",
    "        for word in sentence:\n",
    "            test_dict[word] = test_dict.get(word, 0) + 1\n",
    "            \n",
    "print(len(test_dict))            "
   ]
  },
  {
   "cell_type": "code",
   "execution_count": 13,
   "metadata": {},
   "outputs": [
    {
     "data": {
      "text/plain": [
       "['movi',\n",
       " 'film',\n",
       " 'one',\n",
       " 'like',\n",
       " 'time',\n",
       " 'good',\n",
       " 'make',\n",
       " 'charact',\n",
       " 'get',\n",
       " 'see']"
      ]
     },
     "execution_count": 13,
     "metadata": {},
     "output_type": "execute_result"
    }
   ],
   "source": [
    "#use cell for testing\n",
    "sorted_words_tuple = sorted(test_dict.items(), reverse=True, key=lambda x: x[1])\n",
    "sorted_list = [x[0] for x in sorted_words_tuple]\n",
    "sorted_list[0:10]"
   ]
  },
  {
   "cell_type": "code",
   "execution_count": 14,
   "metadata": {},
   "outputs": [],
   "source": [
    "import numpy as np\n",
    "\n",
    "def build_dict(data, vocab_size = 5000):\n",
    "    \"\"\"Construct and return a dictionary mapping each of the most frequently appearing words to a unique integer.\"\"\"\n",
    "    \n",
    "    # TODO: Determine how often each word appears in `data`. Note that `data` is a list of sentences and that a\n",
    "    #       sentence is a list of words.\n",
    "    \n",
    "    word_count = {} # A dict storing the words that appear in the reviews along with how often they occur\n",
    "    \n",
    "    for sentence in data:\n",
    "        for word in sentence:\n",
    "            word_count[word] = word_count.get(word, 0) + 1\n",
    "    \n",
    "    # TODO: Sort the words found in `data` so that sorted_words[0] is the most frequently appearing word and\n",
    "    #       sorted_words[-1] is the least frequently appearing word.\n",
    "    \n",
    "    sorted_words = None\n",
    "    sorted_words_tuple = None\n",
    "    \n",
    "    sorted_words_tuple = sorted(word_count.items(), reverse=True, key=lambda x: x[1]) #sort words by frequency\n",
    "    sorted_words = [x[0] for x in sorted_words_tuple]\n",
    "    \n",
    "    \n",
    "    word_dict = {} # This is what we are building, a dictionary that translates words into integers\n",
    "    for idx, word in enumerate(sorted_words[:vocab_size - 2]): # The -2 is so that we save room for the 'no word'\n",
    "        word_dict[word] = idx + 2                              # 'infrequent' labels\n",
    "        \n",
    "    return word_dict"
   ]
  },
  {
   "cell_type": "code",
   "execution_count": 15,
   "metadata": {},
   "outputs": [],
   "source": [
    "word_dict = build_dict(train_X)"
   ]
  },
  {
   "cell_type": "code",
   "execution_count": 16,
   "metadata": {},
   "outputs": [
    {
     "name": "stdout",
     "output_type": "stream",
     "text": [
      "{'movi': 2, 'film': 3, 'one': 4, 'like': 5, 'time': 6, 'good': 7, 'make': 8, 'charact': 9, 'get': 10, 'see': 11, 'watch': 12, 'stori': 13, 'even': 14, 'would': 15, 'realli': 16, 'well': 17, 'scene': 18, 'look': 19, 'show': 20, 'much': 21, 'end': 22, 'peopl': 23, 'bad': 24, 'go': 25, 'great': 26, 'also': 27, 'first': 28, 'love': 29, 'think': 30, 'way': 31, 'act': 32, 'play': 33, 'made': 34, 'thing': 35, 'could': 36, 'know': 37, 'say': 38, 'seem': 39, 'work': 40, 'plot': 41, 'two': 42, 'actor': 43, 'year': 44, 'come': 45, 'mani': 46, 'seen': 47, 'take': 48, 'life': 49, 'want': 50, 'never': 51, 'littl': 52, 'best': 53, 'tri': 54, 'man': 55, 'ever': 56, 'give': 57, 'better': 58, 'still': 59, 'perform': 60, 'find': 61, 'feel': 62, 'part': 63, 'back': 64, 'use': 65, 'someth': 66, 'director': 67, 'actual': 68, 'interest': 69, 'lot': 70, 'real': 71, 'old': 72, 'cast': 73, 'though': 74, 'live': 75, 'star': 76, 'enjoy': 77, 'guy': 78, 'anoth': 79, 'new': 80, 'role': 81, 'noth': 82, '10': 83, 'funni': 84, 'music': 85, 'point': 86, 'start': 87, 'set': 88, 'girl': 89, 'origin': 90, 'day': 91, 'world': 92, 'everi': 93, 'believ': 94, 'turn': 95, 'quit': 96, 'us': 97, 'direct': 98, 'thought': 99, 'fact': 100, 'minut': 101, 'horror': 102, 'kill': 103, 'action': 104, 'comedi': 105, 'pretti': 106, 'young': 107, 'wonder': 108, 'happen': 109, 'around': 110, 'got': 111, 'effect': 112, 'right': 113, 'long': 114, 'howev': 115, 'big': 116, 'line': 117, 'famili': 118, 'enough': 119, 'seri': 120, 'may': 121, 'need': 122, 'fan': 123, 'bit': 124, 'script': 125, 'beauti': 126, 'person': 127, 'becom': 128, 'without': 129, 'must': 130, 'alway': 131, 'friend': 132, 'tell': 133, 'reason': 134, 'saw': 135, 'last': 136, 'final': 137, 'kid': 138, 'almost': 139, 'put': 140, 'least': 141, 'sure': 142, 'done': 143, 'whole': 144, 'place': 145, 'complet': 146, 'kind': 147, 'expect': 148, 'differ': 149, 'shot': 150, 'far': 151, 'mean': 152, 'anyth': 153, 'book': 154, 'laugh': 155, 'might': 156, 'name': 157, 'sinc': 158, 'begin': 159, '2': 160, 'probabl': 161, 'woman': 162, 'help': 163, 'entertain': 164, 'let': 165, 'screen': 166, 'call': 167, 'tv': 168, 'moment': 169, 'away': 170, 'read': 171, 'yet': 172, 'rather': 173, 'worst': 174, 'run': 175, 'fun': 176, 'lead': 177, 'hard': 178, 'audienc': 179, 'idea': 180, 'anyon': 181, 'episod': 182, 'american': 183, 'found': 184, 'appear': 185, 'bore': 186, 'especi': 187, 'although': 188, 'hope': 189, 'cours': 190, 'keep': 191, 'anim': 192, 'job': 193, 'goe': 194, 'move': 195, 'sens': 196, 'dvd': 197, 'version': 198, 'war': 199, 'money': 200, 'someon': 201, 'mind': 202, 'mayb': 203, 'problem': 204, 'true': 205, 'hous': 206, 'everyth': 207, 'nice': 208, 'second': 209, 'rate': 210, 'three': 211, 'night': 212, 'follow': 213, 'face': 214, 'recommend': 215, 'product': 216, 'main': 217, 'worth': 218, 'leav': 219, 'human': 220, 'special': 221, 'excel': 222, 'togeth': 223, 'wast': 224, 'sound': 225, 'everyon': 226, 'john': 227, 'hand': 228, '1': 229, 'father': 230, 'later': 231, 'eye': 232, 'said': 233, 'view': 234, 'instead': 235, 'review': 236, 'boy': 237, 'high': 238, 'hour': 239, 'miss': 240, 'talk': 241, 'classic': 242, 'wife': 243, 'understand': 244, 'left': 245, 'care': 246, 'black': 247, 'death': 248, 'open': 249, 'murder': 250, 'write': 251, 'half': 252, 'head': 253, 'rememb': 254, 'chang': 255, 'viewer': 256, 'fight': 257, 'gener': 258, 'surpris': 259, 'includ': 260, 'short': 261, 'die': 262, 'fall': 263, 'less': 264, 'els': 265, 'entir': 266, 'piec': 267, 'involv': 268, 'pictur': 269, 'simpli': 270, 'home': 271, 'power': 272, 'top': 273, 'total': 274, 'usual': 275, 'budget': 276, 'attempt': 277, 'suppos': 278, 'releas': 279, 'hollywood': 280, 'terribl': 281, 'song': 282, 'men': 283, 'possibl': 284, 'featur': 285, 'portray': 286, 'disappoint': 287, 'poor': 288, '3': 289, 'coupl': 290, 'camera': 291, 'stupid': 292, 'dead': 293, 'wrong': 294, 'produc': 295, 'low': 296, 'video': 297, 'either': 298, 'aw': 299, 'definit': 300, 'except': 301, 'rest': 302, 'given': 303, 'absolut': 304, 'women': 305, 'lack': 306, 'word': 307, 'writer': 308, 'titl': 309, 'talent': 310, 'decid': 311, 'full': 312, 'perfect': 313, 'along': 314, 'style': 315, 'close': 316, 'truli': 317, 'school': 318, 'save': 319, 'emot': 320, 'age': 321, 'sex': 322, 'next': 323, 'bring': 324, 'mr': 325, 'case': 326, 'killer': 327, 'heart': 328, 'comment': 329, 'sort': 330, 'creat': 331, 'perhap': 332, 'came': 333, 'brother': 334, 'sever': 335, 'joke': 336, 'art': 337, 'dialogu': 338, 'game': 339, 'small': 340, 'base': 341, 'flick': 342, 'written': 343, 'sequenc': 344, 'meet': 345, 'earli': 346, 'often': 347, 'other': 348, 'mother': 349, 'develop': 350, 'humor': 351, 'actress': 352, 'consid': 353, 'dark': 354, 'guess': 355, 'amaz': 356, 'unfortun': 357, 'lost': 358, 'light': 359, 'exampl': 360, 'cinema': 361, 'drama': 362, 'ye': 363, 'white': 364, 'experi': 365, 'imagin': 366, 'mention': 367, 'stop': 368, 'natur': 369, 'forc': 370, 'manag': 371, 'felt': 372, 'present': 373, 'cut': 374, 'children': 375, 'fail': 376, 'son': 377, 'qualiti': 378, 'support': 379, 'car': 380, 'ask': 381, 'hit': 382, 'side': 383, 'voic': 384, 'extrem': 385, 'impress': 386, 'wors': 387, 'evil': 388, 'went': 389, 'stand': 390, 'certainli': 391, 'basic': 392, 'oh': 393, 'overal': 394, 'favorit': 395, 'horribl': 396, 'mysteri': 397, 'number': 398, 'type': 399, 'danc': 400, 'wait': 401, 'hero': 402, '5': 403, 'alreadi': 404, 'learn': 405, 'matter': 406, '4': 407, 'michael': 408, 'genr': 409, 'fine': 410, 'despit': 411, 'throughout': 412, 'walk': 413, 'success': 414, 'histori': 415, 'question': 416, 'zombi': 417, 'town': 418, 'realiz': 419, 'relationship': 420, 'child': 421, 'past': 422, 'daughter': 423, 'late': 424, 'b': 425, 'wish': 426, 'credit': 427, 'hate': 428, 'event': 429, 'theme': 430, 'touch': 431, 'citi': 432, 'today': 433, 'sometim': 434, 'behind': 435, 'god': 436, 'twist': 437, 'sit': 438, 'stay': 439, 'deal': 440, 'annoy': 441, 'abl': 442, 'rent': 443, 'pleas': 444, 'edit': 445, 'blood': 446, 'deserv': 447, 'anyway': 448, 'comic': 449, 'appar': 450, 'soon': 451, 'gave': 452, 'etc': 453, 'level': 454, 'slow': 455, 'chanc': 456, 'score': 457, 'bodi': 458, 'brilliant': 459, 'incred': 460, 'figur': 461, 'situat': 462, 'self': 463, 'major': 464, 'stuff': 465, 'decent': 466, 'element': 467, 'return': 468, 'dream': 469, 'obvious': 470, 'continu': 471, 'order': 472, 'pace': 473, 'ridicul': 474, 'happi': 475, 'group': 476, 'add': 477, 'highli': 478, 'thank': 479, 'ladi': 480, 'novel': 481, 'pain': 482, 'speak': 483, 'career': 484, 'shoot': 485, 'strang': 486, 'heard': 487, 'sad': 488, 'polic': 489, 'husband': 490, 'import': 491, 'break': 492, 'took': 493, 'strong': 494, 'cannot': 495, 'robert': 496, 'predict': 497, 'violenc': 498, 'hilari': 499, 'recent': 500, 'countri': 501, 'known': 502, 'particularli': 503, 'pick': 504, 'documentari': 505, 'season': 506, 'critic': 507, 'jame': 508, 'compar': 509, 'alon': 510, 'obviou': 511, 'told': 512, 'state': 513, 'visual': 514, 'rock': 515, 'offer': 516, 'exist': 517, 'theater': 518, 'opinion': 519, 'gore': 520, 'crap': 521, 'hold': 522, 'result': 523, 'realiti': 524, 'room': 525, 'hear': 526, 'effort': 527, 'clich': 528, 'thriller': 529, 'caus': 530, 'explain': 531, 'serious': 532, 'sequel': 533, 'king': 534, 'local': 535, 'ago': 536, 'none': 537, 'hell': 538, 'note': 539, 'allow': 540, 'david': 541, 'sister': 542, 'simpl': 543, 'femal': 544, 'deliv': 545, 'ok': 546, 'convinc': 547, 'class': 548, 'check': 549, 'suspens': 550, 'win': 551, 'buy': 552, 'oscar': 553, 'huge': 554, 'valu': 555, 'sexual': 556, 'scari': 557, 'cool': 558, 'similar': 559, 'excit': 560, 'apart': 561, 'provid': 562, 'exactli': 563, 'shown': 564, 'avoid': 565, 'seriou': 566, 'english': 567, 'taken': 568, 'whose': 569, 'cinematographi': 570, 'shock': 571, 'polit': 572, 'spoiler': 573, 'offic': 574, 'across': 575, 'middl': 576, 'street': 577, 'pass': 578, 'messag': 579, 'silli': 580, 'charm': 581, 'somewhat': 582, 'modern': 583, 'filmmak': 584, 'confus': 585, 'form': 586, 'tale': 587, 'singl': 588, 'jack': 589, 'mostli': 590, 'carri': 591, 'william': 592, 'attent': 593, 'sing': 594, 'five': 595, 'subject': 596, 'prove': 597, 'richard': 598, 'stage': 599, 'team': 600, 'cop': 601, 'unlik': 602, 'georg': 603, 'televis': 604, 'monster': 605, 'earth': 606, 'cover': 607, 'villain': 608, 'pay': 609, 'marri': 610, 'toward': 611, 'build': 612, 'pull': 613, 'parent': 614, 'due': 615, 'fill': 616, 'respect': 617, 'dialog': 618, 'four': 619, 'remind': 620, 'futur': 621, 'typic': 622, 'weak': 623, '7': 624, 'cheap': 625, 'intellig': 626, 'british': 627, 'atmospher': 628, '80': 629, 'clearli': 630, 'dog': 631, 'paul': 632, 'non': 633, 'artist': 634, 'knew': 635, 'fast': 636, '8': 637, 'crime': 638, 'easili': 639, 'escap': 640, 'adult': 641, 'doubt': 642, 'detail': 643, 'date': 644, 'member': 645, 'fire': 646, 'romant': 647, 'gun': 648, 'drive': 649, 'straight': 650, 'beyond': 651, 'fit': 652, 'attack': 653, 'imag': 654, 'upon': 655, 'posit': 656, 'whether': 657, 'fantast': 658, 'peter': 659, 'aspect': 660, 'appreci': 661, 'captur': 662, 'ten': 663, 'plan': 664, 'discov': 665, 'remain': 666, 'near': 667, 'period': 668, 'realist': 669, 'air': 670, 'mark': 671, 'red': 672, 'dull': 673, 'adapt': 674, 'within': 675, 'lose': 676, 'spend': 677, 'materi': 678, 'color': 679, 'chase': 680, 'mari': 681, 'storylin': 682, 'forget': 683, 'bunch': 684, 'clear': 685, 'lee': 686, 'victim': 687, 'nearli': 688, 'box': 689, 'york': 690, 'inspir': 691, 'match': 692, 'finish': 693, 'mess': 694, 'standard': 695, 'easi': 696, 'truth': 697, 'suffer': 698, 'busi': 699, 'space': 700, 'dramat': 701, 'bill': 702, 'western': 703, 'e': 704, 'list': 705, 'battl': 706, 'notic': 707, 'de': 708, 'french': 709, 'ad': 710, '9': 711, 'tom': 712, 'larg': 713, 'among': 714, 'eventu': 715, 'train': 716, 'accept': 717, 'agre': 718, 'soundtrack': 719, 'spirit': 720, 'third': 721, 'teenag': 722, 'adventur': 723, 'soldier': 724, 'sorri': 725, 'drug': 726, 'suggest': 727, 'famou': 728, 'normal': 729, 'babi': 730, 'cri': 731, 'ultim': 732, 'troubl': 733, 'contain': 734, 'certain': 735, 'cultur': 736, 'romanc': 737, 'rare': 738, 'lame': 739, 'somehow': 740, 'mix': 741, 'disney': 742, 'gone': 743, 'cartoon': 744, 'student': 745, 'reveal': 746, 'fear': 747, 'suck': 748, 'kept': 749, 'attract': 750, 'appeal': 751, 'premis': 752, 'secret': 753, 'greatest': 754, 'design': 755, 'shame': 756, 'throw': 757, 'copi': 758, 'scare': 759, 'wit': 760, 'admit': 761, 'america': 762, 'brought': 763, 'relat': 764, 'particular': 765, 'screenplay': 766, 'whatev': 767, 'pure': 768, '70': 769, 'averag': 770, 'harri': 771, 'master': 772, 'describ': 773, 'male': 774, 'treat': 775, '20': 776, 'issu': 777, 'fantasi': 778, 'warn': 779, 'inde': 780, 'forward': 781, 'background': 782, 'free': 783, 'project': 784, 'japanes': 785, 'memor': 786, 'poorli': 787, 'award': 788, 'locat': 789, 'amus': 790, 'potenti': 791, 'struggl': 792, 'weird': 793, 'magic': 794, 'societi': 795, 'okay': 796, 'imdb': 797, 'doctor': 798, 'accent': 799, 'hot': 800, 'water': 801, 'express': 802, 'dr': 803, '30': 804, 'alien': 805, 'odd': 806, 'choic': 807, 'crazi': 808, 'studio': 809, 'fiction': 810, 'becam': 811, 'control': 812, 'masterpiec': 813, 'difficult': 814, 'fli': 815, 'joe': 816, 'scream': 817, 'costum': 818, 'lover': 819, 'uniqu': 820, 'refer': 821, 'remak': 822, 'vampir': 823, 'girlfriend': 824, 'prison': 825, 'execut': 826, 'wear': 827, 'jump': 828, 'wood': 829, 'unless': 830, 'creepi': 831, 'cheesi': 832, 'superb': 833, 'otherwis': 834, 'parti': 835, 'roll': 836, 'ghost': 837, 'mad': 838, 'public': 839, 'depict': 840, 'week': 841, 'earlier': 842, 'moral': 843, 'jane': 844, 'badli': 845, 'dumb': 846, 'fi': 847, 'flaw': 848, 'grow': 849, 'deep': 850, 'sci': 851, 'cat': 852, 'maker': 853, 'footag': 854, 'older': 855, 'connect': 856, 'plenti': 857, 'bother': 858, 'outsid': 859, 'stick': 860, 'gay': 861, 'catch': 862, 'co': 863, 'plu': 864, 'popular': 865, 'equal': 866, 'social': 867, 'quickli': 868, 'disturb': 869, 'perfectli': 870, 'dress': 871, 'era': 872, '90': 873, 'mistak': 874, 'lie': 875, 'ride': 876, 'previou': 877, 'combin': 878, 'concept': 879, 'band': 880, 'surviv': 881, 'rich': 882, 'answer': 883, 'front': 884, 'sweet': 885, 'christma': 886, 'insid': 887, 'concern': 888, 'eat': 889, 'bare': 890, 'listen': 891, 'beat': 892, 'ben': 893, 'c': 894, 'term': 895, 'serv': 896, 'la': 897, 'german': 898, 'meant': 899, 'hardli': 900, 'stereotyp': 901, 'innoc': 902, 'law': 903, 'desper': 904, 'promis': 905, 'memori': 906, 'intent': 907, 'cute': 908, 'variou': 909, 'steal': 910, 'inform': 911, 'brain': 912, 'post': 913, 'tone': 914, 'island': 915, 'amount': 916, 'track': 917, 'nuditi': 918, 'compani': 919, 'claim': 920, 'store': 921, 'hair': 922, '50': 923, 'flat': 924, 'univers': 925, 'land': 926, 'kick': 927, 'scott': 928, 'danger': 929, 'fairli': 930, 'player': 931, 'plain': 932, 'step': 933, 'crew': 934, 'toni': 935, 'share': 936, 'centuri': 937, 'tast': 938, 'achiev': 939, 'engag': 940, 'cold': 941, 'travel': 942, 'rip': 943, 'record': 944, 'suit': 945, 'sadli': 946, 'manner': 947, 'wrote': 948, 'tension': 949, 'spot': 950, 'intens': 951, 'fascin': 952, 'familiar': 953, 'remark': 954, 'burn': 955, 'depth': 956, 'histor': 957, 'destroy': 958, 'sleep': 959, 'purpos': 960, 'languag': 961, 'ignor': 962, 'ruin': 963, 'delight': 964, 'unbeliev': 965, 'italian': 966, 'collect': 967, 'soul': 968, 'abil': 969, 'clever': 970, 'detect': 971, 'violent': 972, 'rape': 973, 'reach': 974, 'door': 975, 'trash': 976, 'liter': 977, 'scienc': 978, 'commun': 979, 'caught': 980, 'reveng': 981, 'creatur': 982, 'approach': 983, 'trip': 984, 'intrigu': 985, 'fashion': 986, 'skill': 987, 'paint': 988, 'introduc': 989, 'channel': 990, 'complex': 991, 'camp': 992, 'christian': 993, 'extra': 994, 'hole': 995, 'mental': 996, 'ann': 997, 'immedi': 998, 'limit': 999, 'mere': 1000, 'million': 1001, 'comput': 1002, 'slightli': 1003, '6': 1004, 'conclus': 1005, 'slasher': 1006, 'imposs': 1007, 'suddenli': 1008, 'neither': 1009, 'crimin': 1010, 'teen': 1011, 'physic': 1012, 'spent': 1013, 'nation': 1014, 'respons': 1015, 'planet': 1016, 'fake': 1017, 'receiv': 1018, 'sick': 1019, 'blue': 1020, 'bizarr': 1021, 'embarrass': 1022, 'indian': 1023, '15': 1024, 'ring': 1025, 'pop': 1026, 'drop': 1027, 'drag': 1028, 'haunt': 1029, 'pointless': 1030, 'suspect': 1031, 'search': 1032, 'edg': 1033, 'handl': 1034, 'common': 1035, 'biggest': 1036, 'faith': 1037, 'arriv': 1038, 'hurt': 1039, 'technic': 1040, 'angel': 1041, 'genuin': 1042, 'dad': 1043, 'f': 1044, 'solid': 1045, 'awesom': 1046, 'focu': 1047, 'van': 1048, 'colleg': 1049, 'former': 1050, 'count': 1051, 'heavi': 1052, 'tear': 1053, 'rais': 1054, 'wall': 1055, 'younger': 1056, 'visit': 1057, 'laughabl': 1058, 'excus': 1059, 'fair': 1060, 'sign': 1061, 'cult': 1062, 'key': 1063, 'tough': 1064, 'motion': 1065, 'desir': 1066, 'super': 1067, 'stun': 1068, 'addit': 1069, 'exploit': 1070, 'cloth': 1071, 'smith': 1072, 'tortur': 1073, 'race': 1074, 'davi': 1075, 'cross': 1076, 'author': 1077, 'jim': 1078, 'minor': 1079, 'compel': 1080, 'focus': 1081, 'consist': 1082, 'pathet': 1083, 'chemistri': 1084, 'commit': 1085, 'park': 1086, 'tradit': 1087, 'frank': 1088, 'obsess': 1089, 'grade': 1090, 'asid': 1091, '60': 1092, 'brutal': 1093, 'steve': 1094, 'somewher': 1095, 'explor': 1096, 'rule': 1097, 'u': 1098, 'opportun': 1099, 'grant': 1100, 'depress': 1101, 'besid': 1102, 'honest': 1103, 'anti': 1104, 'dub': 1105, 'intend': 1106, 'trailer': 1107, 'bar': 1108, 'longer': 1109, 'scientist': 1110, 'regard': 1111, 'west': 1112, 'judg': 1113, 'decad': 1114, 'silent': 1115, 'armi': 1116, 'creativ': 1117, 'wild': 1118, 'stewart': 1119, 'south': 1120, 'g': 1121, 'draw': 1122, 'road': 1123, 'govern': 1124, 'ex': 1125, 'boss': 1126, 'practic': 1127, 'festiv': 1128, 'gang': 1129, 'motiv': 1130, 'surprisingli': 1131, 'club': 1132, 'redeem': 1133, 'london': 1134, 'green': 1135, 'page': 1136, 'aliv': 1137, 'idiot': 1138, 'militari': 1139, 'machin': 1140, 'display': 1141, 'thrill': 1142, 'repeat': 1143, 'folk': 1144, 'nobodi': 1145, 'yeah': 1146, '100': 1147, '40': 1148, 'journey': 1149, 'garbag': 1150, 'ground': 1151, 'tire': 1152, 'smile': 1153, 'mood': 1154, 'bought': 1155, 'cost': 1156, 'stone': 1157, 'sam': 1158, 'mouth': 1159, 'noir': 1160, 'terrif': 1161, 'agent': 1162, 'utterli': 1163, 'requir': 1164, 'area': 1165, 'honestli': 1166, 'sexi': 1167, 'geniu': 1168, 'report': 1169, 'humour': 1170, 'glad': 1171, 'investig': 1172, 'enter': 1173, 'serial': 1174, 'occasion': 1175, 'narr': 1176, 'passion': 1177, 'climax': 1178, 'marriag': 1179, 'studi': 1180, 'industri': 1181, 'charli': 1182, 'center': 1183, 'demon': 1184, 'nowher': 1185, 'ship': 1186, 'loos': 1187, 'bear': 1188, 'hors': 1189, 'wow': 1190, 'hang': 1191, 'graphic': 1192, 'admir': 1193, 'giant': 1194, 'send': 1195, 'loud': 1196, 'damn': 1197, 'rel': 1198, 'nake': 1199, 'profession': 1200, 'subtl': 1201, 'blow': 1202, 'bottom': 1203, 'insult': 1204, 'batman': 1205, 'boyfriend': 1206, 'kelli': 1207, 'doubl': 1208, 'r': 1209, 'initi': 1210, 'frame': 1211, 'opera': 1212, 'gem': 1213, 'challeng': 1214, 'cinemat': 1215, 'affect': 1216, 'church': 1217, 'drawn': 1218, 'evid': 1219, 'fulli': 1220, 'l': 1221, 'j': 1222, 'seek': 1223, 'nightmar': 1224, 'essenti': 1225, 'conflict': 1226, 'arm': 1227, 'grace': 1228, 'christoph': 1229, 'wind': 1230, 'henri': 1231, 'narrat': 1232, 'assum': 1233, 'witch': 1234, 'hunt': 1235, 'push': 1236, 'wise': 1237, 'chri': 1238, 'repres': 1239, 'nomin': 1240, 'month': 1241, 'affair': 1242, 'avail': 1243, 'hide': 1244, 'sceneri': 1245, 'smart': 1246, 'thu': 1247, 'justic': 1248, 'bond': 1249, 'outstand': 1250, 'interview': 1251, 'flashback': 1252, 'constantli': 1253, 'satisfi': 1254, 'presenc': 1255, 'bed': 1256, 'central': 1257, 'content': 1258, 'iron': 1259, 'sell': 1260, 'gag': 1261, 'everybodi': 1262, 'slowli': 1263, 'hotel': 1264, 'hire': 1265, 'system': 1266, 'individu': 1267, 'thrown': 1268, 'hey': 1269, 'charl': 1270, 'adam': 1271, 'mediocr': 1272, 'allen': 1273, 'jone': 1274, 'billi': 1275, 'lesson': 1276, 'ray': 1277, 'cameo': 1278, 'photographi': 1279, 'fellow': 1280, 'pari': 1281, 'strike': 1282, 'independ': 1283, 'rise': 1284, 'brief': 1285, 'absurd': 1286, 'neg': 1287, 'impact': 1288, 'phone': 1289, 'ill': 1290, 'born': 1291, 'model': 1292, 'fresh': 1293, 'angl': 1294, 'spoil': 1295, 'abus': 1296, 'likabl': 1297, 'discuss': 1298, 'hill': 1299, 'sight': 1300, 'ahead': 1301, 'sent': 1302, 'photograph': 1303, 'shine': 1304, 'occur': 1305, 'blame': 1306, 'logic': 1307, 'mainli': 1308, 'bruce': 1309, 'skip': 1310, 'commerci': 1311, 'forev': 1312, 'surround': 1313, 'segment': 1314, 'held': 1315, 'teacher': 1316, 'zero': 1317, 'blond': 1318, 'summer': 1319, 'trap': 1320, 'satir': 1321, 'resembl': 1322, 'fool': 1323, 'ball': 1324, 'queen': 1325, 'six': 1326, 'sub': 1327, 'tragedi': 1328, 'twice': 1329, 'pack': 1330, 'reaction': 1331, 'bomb': 1332, 'hospit': 1333, 'will': 1334, 'protagonist': 1335, 'mile': 1336, 'sport': 1337, 'drink': 1338, 'jerri': 1339, 'vote': 1340, 'trust': 1341, 'mom': 1342, 'encount': 1343, 'plane': 1344, 'current': 1345, 'al': 1346, 'station': 1347, 'program': 1348, 'celebr': 1349, 'choos': 1350, 'martin': 1351, 'join': 1352, 'tragic': 1353, 'field': 1354, 'favourit': 1355, 'lord': 1356, 'round': 1357, 'robot': 1358, 'jean': 1359, 'vision': 1360, 'tie': 1361, 'arthur': 1362, 'random': 1363, 'roger': 1364, 'fortun': 1365, 'psycholog': 1366, 'dread': 1367, 'intern': 1368, 'nonsens': 1369, 'epic': 1370, 'prefer': 1371, 'improv': 1372, 'legend': 1373, 'highlight': 1374, 'formula': 1375, 'pleasur': 1376, 'dollar': 1377, '11': 1378, 'tape': 1379, 'object': 1380, 'wide': 1381, 'thin': 1382, 'porn': 1383, 'fox': 1384, 'gorgeou': 1385, 'influenc': 1386, 'ugli': 1387, 'buddi': 1388, 'nasti': 1389, 'prepar': 1390, 'ii': 1391, 'supposedli': 1392, 'reflect': 1393, 'progress': 1394, 'warm': 1395, 'youth': 1396, 'worthi': 1397, 'latter': 1398, 'unusu': 1399, 'length': 1400, 'crash': 1401, 'shop': 1402, 'childhood': 1403, 'seven': 1404, 'superior': 1405, 'theatr': 1406, 'remot': 1407, 'disgust': 1408, 'pilot': 1409, 'funniest': 1410, 'paid': 1411, 'convers': 1412, 'trick': 1413, 'fell': 1414, 'castl': 1415, 'rob': 1416, 'gangster': 1417, 'establish': 1418, 'disast': 1419, 'ident': 1420, 'disappear': 1421, 'mine': 1422, 'heaven': 1423, 'suicid': 1424, 'heroin': 1425, 'singer': 1426, 'tend': 1427, 'forgotten': 1428, 'mask': 1429, 'decis': 1430, 'partner': 1431, 'brian': 1432, 'recogn': 1433, 'desert': 1434, 'alan': 1435, 'p': 1436, 'stuck': 1437, 'thoroughli': 1438, 'ms': 1439, 'sky': 1440, 'replac': 1441, 'accur': 1442, 'market': 1443, 'commentari': 1444, 'danni': 1445, 'seemingli': 1446, 'clue': 1447, 'uncl': 1448, 'andi': 1449, 'eddi': 1450, 'devil': 1451, 'jackson': 1452, 'pair': 1453, 'therefor': 1454, 'refus': 1455, 'that': 1456, 'fate': 1457, 'fault': 1458, 'river': 1459, 'accid': 1460, 'unit': 1461, 'ed': 1462, 'afraid': 1463, 'tune': 1464, 'clean': 1465, 'russian': 1466, 'hidden': 1467, 'stephen': 1468, 'convey': 1469, 'instanc': 1470, 'readi': 1471, 'quick': 1472, 'irrit': 1473, 'test': 1474, 'captain': 1475, 'european': 1476, 'insan': 1477, 'daniel': 1478, 'frustrat': 1479, 'chines': 1480, 'food': 1481, 'wed': 1482, 'rescu': 1483, '1950': 1484, 'lock': 1485, 'dirti': 1486, 'angri': 1487, 'joy': 1488, 'steven': 1489, 'price': 1490, 'bland': 1491, 'cage': 1492, 'anymor': 1493, 'rang': 1494, 'wooden': 1495, 'n': 1496, 'jason': 1497, 'rush': 1498, 'news': 1499, 'martial': 1500, 'worri': 1501, '12': 1502, 'twenti': 1503, 'led': 1504, 'board': 1505, 'hunter': 1506, 'cgi': 1507, 'symbol': 1508, 'transform': 1509, 'sentiment': 1510, 'piti': 1511, 'johnni': 1512, 'x': 1513, 'onto': 1514, 'invent': 1515, 'explan': 1516, 'process': 1517, 'attitud': 1518, 'owner': 1519, 'awar': 1520, 'aim': 1521, 'necessari': 1522, 'floor': 1523, 'target': 1524, 'energi': 1525, 'favor': 1526, 'opposit': 1527, 'religi': 1528, 'window': 1529, 'chick': 1530, 'insight': 1531, 'blind': 1532, 'movement': 1533, 'comparison': 1534, 'research': 1535, 'deepli': 1536, 'possess': 1537, 'mountain': 1538, 'comed': 1539, 'whatsoev': 1540, 'rain': 1541, 'grand': 1542, 'mid': 1543, 'began': 1544, 'shadow': 1545, 'bank': 1546, 'parodi': 1547, 'princ': 1548, 'friendship': 1549, 'taylor': 1550, 'credibl': 1551, 'pre': 1552, 'weapon': 1553, 'teach': 1554, 'flesh': 1555, 'dougla': 1556, 'terror': 1557, 'bloodi': 1558, 'hint': 1559, 'protect': 1560, 'marvel': 1561, 'anybodi': 1562, 'watchabl': 1563, 'load': 1564, 'drunk': 1565, 'leader': 1566, 'accord': 1567, 'superman': 1568, 'brown': 1569, 'freddi': 1570, 'seat': 1571, 'jeff': 1572, 'appropri': 1573, 'tim': 1574, 'hitler': 1575, 'charg': 1576, 'villag': 1577, 'keaton': 1578, 'knock': 1579, 'unknown': 1580, 'england': 1581, 'enemi': 1582, 'media': 1583, 'unnecessari': 1584, 'empti': 1585, 'dare': 1586, 'craft': 1587, 'utter': 1588, 'strength': 1589, 'wave': 1590, 'buck': 1591, 'perspect': 1592, 'contrast': 1593, 'nativ': 1594, 'ford': 1595, 'kiss': 1596, 'correct': 1597, 'soap': 1598, 'anywher': 1599, 'magnific': 1600, 'chill': 1601, 'knowledg': 1602, 'nazi': 1603, 'speed': 1604, 'distract': 1605, 'breath': 1606, '1980': 1607, 'mission': 1608, 'fred': 1609, 'ice': 1610, 'crowd': 1611, 'moon': 1612, 'jr': 1613, 'joan': 1614, '000': 1615, 'frighten': 1616, 'soft': 1617, 'kate': 1618, 'dick': 1619, 'hundr': 1620, 'dan': 1621, 'nick': 1622, 'somebodi': 1623, 'radio': 1624, 'dozen': 1625, 'simon': 1626, 'loss': 1627, 'shakespear': 1628, 'andrew': 1629, 'thousand': 1630, 'academi': 1631, 'sum': 1632, 'quot': 1633, 'vehicl': 1634, 'root': 1635, 'account': 1636, 'behavior': 1637, 'leg': 1638, '1970': 1639, 'convent': 1640, 'regular': 1641, 'gold': 1642, 'demand': 1643, 'compet': 1644, 'pretenti': 1645, 'worker': 1646, 'explos': 1647, 'japan': 1648, 'candi': 1649, 'stretch': 1650, 'interpret': 1651, 'privat': 1652, 'lynch': 1653, 'notabl': 1654, 'debut': 1655, 'tarzan': 1656, 'constant': 1657, 'spi': 1658, 'translat': 1659, 'prais': 1660, 'sea': 1661, 'revolv': 1662, 'quiet': 1663, 'sat': 1664, 'ass': 1665, 'threaten': 1666, 'franc': 1667, 'failur': 1668, 'technolog': 1669, 'jesu': 1670, 'met': 1671, 'higher': 1672, 'kevin': 1673, 'aid': 1674, 'punch': 1675, 'toy': 1676, 'vh': 1677, 'interact': 1678, 'abandon': 1679, 'mike': 1680, 'confront': 1681, 'command': 1682, 'separ': 1683, 'bet': 1684, 'gotten': 1685, 'servic': 1686, 'belong': 1687, 'site': 1688, 'recal': 1689, 'techniqu': 1690, 'stunt': 1691, 'bug': 1692, 'cabl': 1693, 'freak': 1694, 'foot': 1695, 'bright': 1696, 'african': 1697, 'fu': 1698, 'capabl': 1699, 'jimmi': 1700, 'fat': 1701, 'succeed': 1702, 'stock': 1703, 'presid': 1704, 'clark': 1705, 'boat': 1706, 'structur': 1707, 'gene': 1708, 'spanish': 1709, 'kidnap': 1710, 'paper': 1711, 'belief': 1712, 'factor': 1713, 'whilst': 1714, 'realism': 1715, 'realis': 1716, 'educ': 1717, 'bob': 1718, 'complic': 1719, 'attend': 1720, 'witti': 1721, 'tree': 1722, 'broken': 1723, 'assist': 1724, 'finest': 1725, 'santa': 1726, 'up': 1727, 'v': 1728, 'observ': 1729, 'smoke': 1730, 'depart': 1731, 'determin': 1732, 'rubbish': 1733, 'oper': 1734, 'fame': 1735, 'lewi': 1736, 'hat': 1737, 'domin': 1738, 'routin': 1739, 'foreign': 1740, 'lone': 1741, 'morgan': 1742, 'advanc': 1743, 'safe': 1744, 'hook': 1745, 'kinda': 1746, 'numer': 1747, 'rank': 1748, 'shape': 1749, 'shallow': 1750, 'vs': 1751, 'civil': 1752, 'washington': 1753, 'rose': 1754, 'werewolf': 1755, 'gari': 1756, 'morn': 1757, 'accomplish': 1758, 'kong': 1759, 'ordinari': 1760, 'winner': 1761, 'whenev': 1762, 'grab': 1763, 'peac': 1764, 'virtual': 1765, 'luck': 1766, 'h': 1767, 'offens': 1768, 'bigger': 1769, 'unfunni': 1770, 'complain': 1771, 'patient': 1772, 'contriv': 1773, 'activ': 1774, 'welcom': 1775, 'pretend': 1776, 'dimension': 1777, 'trek': 1778, 'con': 1779, 'lesbian': 1780, 'flash': 1781, 'dri': 1782, 'eric': 1783, 'wake': 1784, 'code': 1785, 'cain': 1786, 'corrupt': 1787, 'albert': 1788, 'statu': 1789, 'guard': 1790, 'manipul': 1791, 'dancer': 1792, 'gain': 1793, 'awkward': 1794, 'context': 1795, 'signific': 1796, 'speech': 1797, 'sourc': 1798, '13': 1799, 'clip': 1800, 'psycho': 1801, 'sean': 1802, 'corni': 1803, 'anthoni': 1804, 'theatric': 1805, 'priest': 1806, 'religion': 1807, 'curiou': 1808, 'w': 1809, 'advic': 1810, 'reli': 1811, 'addict': 1812, 'flow': 1813, 'specif': 1814, 'skin': 1815, 'howard': 1816, 'asian': 1817, 'secur': 1818, 'jennif': 1819, 'comfort': 1820, 'organ': 1821, 'golden': 1822, 'core': 1823, 'promot': 1824, 'luke': 1825, 'lucki': 1826, 'cheat': 1827, 'cash': 1828, 'associ': 1829, 'lower': 1830, 'dislik': 1831, 'frankli': 1832, 'balanc': 1833, 'frequent': 1834, 'contribut': 1835, 'degre': 1836, 'regret': 1837, 'devic': 1838, 'spell': 1839, 'wing': 1840, 'lake': 1841, 'sake': 1842, 'forgiv': 1843, 'print': 1844, 'thoma': 1845, 'mass': 1846, 'betti': 1847, 'crack': 1848, 'gordon': 1849, 'unexpect': 1850, 'unfold': 1851, 'amateur': 1852, 'grown': 1853, 'invit': 1854, 'categori': 1855, 'construct': 1856, 'depend': 1857, 'honor': 1858, 'grew': 1859, 'matur': 1860, 'condit': 1861, 'intellectu': 1862, 'walter': 1863, 'anna': 1864, 'mirror': 1865, 'veteran': 1866, 'spectacular': 1867, 'sole': 1868, 'sudden': 1869, 'freedom': 1870, 'experienc': 1871, 'card': 1872, 'liner': 1873, 'gift': 1874, 'grip': 1875, 'meanwhil': 1876, 'demonstr': 1877, 'robin': 1878, 'overli': 1879, 'section': 1880, 'brilliantli': 1881, 'crappi': 1882, 'oliv': 1883, 'sheriff': 1884, 'theori': 1885, 'subtitl': 1886, 'drew': 1887, 'circumst': 1888, 'unabl': 1889, 'colour': 1890, 'path': 1891, 'sheer': 1892, 'laughter': 1893, 'parker': 1894, 'pile': 1895, 'cook': 1896, 'altern': 1897, 'matt': 1898, 'hall': 1899, 'lawyer': 1900, 'relief': 1901, 'sinatra': 1902, 'defin': 1903, 'wander': 1904, 'accident': 1905, 'treatment': 1906, 'captiv': 1907, 'dragon': 1908, 'hank': 1909, 'gratuit': 1910, 'moor': 1911, 'halloween': 1912, 'cowboy': 1913, 'k': 1914, 'wound': 1915, 'unintent': 1916, 'wayn': 1917, 'barbara': 1918, 'broadway': 1919, 'jacki': 1920, 'kung': 1921, 'surreal': 1922, 'spoof': 1923, 'statement': 1924, 'canadian': 1925, 'winter': 1926, 'fish': 1927, 'fare': 1928, 'compos': 1929, 'cheer': 1930, 'treasur': 1931, 'gonna': 1932, 'woodi': 1933, 'sensit': 1934, 'emerg': 1935, 'unrealist': 1936, 'victor': 1937, 'ran': 1938, 'sympathet': 1939, 'driven': 1940, 'neighbor': 1941, 'topic': 1942, 'expos': 1943, 'menac': 1944, 'overlook': 1945, 'glass': 1946, 'authent': 1947, 'gross': 1948, 'chief': 1949, 'handsom': 1950, 'ancient': 1951, 'michel': 1952, 'network': 1953, 'nevertheless': 1954, 'contemporari': 1955, 'feet': 1956, 'stranger': 1957, 'built': 1958, 'comedian': 1959, 'russel': 1960, 'pleasant': 1961, 'cinderella': 1962, 'gori': 1963, 'consider': 1964, 'blockbust': 1965, 'underr': 1966, 'earn': 1967, 'miser': 1968, 'endless': 1969, 'letter': 1970, 'solv': 1971, 'brook': 1972, 'switch': 1973, 'victoria': 1974, 'edward': 1975, 'virgin': 1976, 'convict': 1977, 'joseph': 1978, 'bullet': 1979, 'scale': 1980, 'alex': 1981, '0': 1982, 'cynic': 1983, 'chosen': 1984, 'scenario': 1985, 'outrag': 1986, 'curs': 1987, 'sword': 1988, 'com': 1989, 'gut': 1990, 'proper': 1991, 'substanc': 1992, 'screenwrit': 1993, 'driver': 1994, 'uk': 1995, 'monkey': 1996, 'juli': 1997, 'wrap': 1998, 'par': 1999, 'remov': 2000, 'bird': 2001, 'court': 2002, 'indic': 2003, 'consequ': 2004, 'inevit': 2005, 'naiv': 2006, 'grave': 2007, 'roy': 2008, 'advertis': 2009, 'loser': 2010, 'rental': 2011, 'nanci': 2012, 'germani': 2013, 'slap': 2014, 'le': 2015, 'bridg': 2016, 'fatal': 2017, 'brave': 2018, 'invis': 2019, 'anger': 2020, 'provok': 2021, 'footbal': 2022, 'ador': 2023, 'loui': 2024, 'chan': 2025, 'alcohol': 2026, 'anderson': 2027, 'ryan': 2028, 'willi': 2029, 'stumbl': 2030, 'professor': 2031, 'australian': 2032, 'assassin': 2033, '1930': 2034, 'patrick': 2035, 'sharp': 2036, 'bat': 2037, 'lousi': 2038, 'strongli': 2039, 'trilog': 2040, 'liber': 2041, 'cell': 2042, 'refresh': 2043, 'eight': 2044, 'heck': 2045, 'deni': 2046, 'ape': 2047, 'saturday': 2048, 'amateurish': 2049, 'sin': 2050, 'resid': 2051, 'vagu': 2052, 'san': 2053, 'justifi': 2054, 'mini': 2055, 'indi': 2056, 'reput': 2057, 'sympathi': 2058, 'creator': 2059, 'defeat': 2060, 'terrifi': 2061, 'expert': 2062, 'endur': 2063, 'prevent': 2064, 'tediou': 2065, 'tabl': 2066, 'task': 2067, 'employ': 2068, 'offend': 2069, 'che': 2070, 'rival': 2071, 'trial': 2072, 'imit': 2073, 'basebal': 2074, 'complaint': 2075, 'europ': 2076, 'fairi': 2077, 'dig': 2078, 'pitch': 2079, 'beach': 2080, 'weekend': 2081, 'max': 2082, 'purchas': 2083, 'risk': 2084, 'format': 2085, 'murphi': 2086, 'tini': 2087, 'harsh': 2088, 'bite': 2089, 'glimps': 2090, 'nois': 2091, 'reminisc': 2092, 'hype': 2093, 'titan': 2094, 'powel': 2095, 'till': 2096, 'north': 2097, 'prime': 2098, 'fals': 2099, 'asleep': 2100, '14': 2101, 'strip': 2102, 'descript': 2103, 'revel': 2104, 'africa': 2105, 'texa': 2106, 'destruct': 2107, 'excess': 2108, 'sitcom': 2109, 'arrest': 2110, 'semi': 2111, 'uninterest': 2112, 'surfac': 2113, 'inner': 2114, 'spin': 2115, 'massiv': 2116, 'argu': 2117, 'hitchcock': 2118, 'twin': 2119, 'controversi': 2120, 'maintain': 2121, 'makeup': 2122, 'dinosaur': 2123, 'stare': 2124, 'melodrama': 2125, 'kim': 2126, 'ludicr': 2127, 'insist': 2128, 'ideal': 2129, 'reject': 2130, 'expens': 2131, 'atroci': 2132, 'subplot': 2133, 'press': 2134, 'forest': 2135, 'columbo': 2136, 'ga': 2137, 'nail': 2138, 'supernatur': 2139, 'ala': 2140, 'erot': 2141, 'host': 2142, 'cant': 2143, 'identifi': 2144, 'dude': 2145, 'notch': 2146, 'presum': 2147, 'guest': 2148, 'method': 2149, 'crude': 2150, 'plagu': 2151, 'forgett': 2152, 'closer': 2153, 'character': 2154, 'ear': 2155, 'lion': 2156, 'landscap': 2157, 'princess': 2158, 'foster': 2159, 'border': 2160, 'beast': 2161, 'pacino': 2162, 'damag': 2163, 'accus': 2164, 'bound': 2165, 'urban': 2166, 'jungl': 2167, 'aunt': 2168, 'storytel': 2169, 'birth': 2170, 'previous': 2171, 'jess': 2172, 'nude': 2173, 'emma': 2174, 'thirti': 2175, 'guid': 2176, 'chose': 2177, 'propaganda': 2178, 'doll': 2179, 'whoever': 2180, 'pet': 2181, 'mate': 2182, 'mainstream': 2183, 'warrior': 2184, '25': 2185, 'latest': 2186, 'deadli': 2187, 'exact': 2188, 'merit': 2189, 'friday': 2190, 'gritti': 2191, 'size': 2192, 'poster': 2193, 'cooper': 2194, 'upset': 2195, 'contact': 2196, 'buff': 2197, 'citizen': 2198, 'ton': 2199, 'blend': 2200, 'rough': 2201, 'contest': 2202, 'popul': 2203, 'wilson': 2204, 'settl': 2205, '1990': 2206, 'warner': 2207, 'corps': 2208, 'sun': 2209, 'widow': 2210, 'select': 2211, 'rat': 2212, 'environ': 2213, 'bu': 2214, 'metal': 2215, 'overcom': 2216, 'mgm': 2217, 'pitt': 2218, 'alic': 2219, 'revolut': 2220, 'guilti': 2221, 'lift': 2222, 'link': 2223, 'ted': 2224, 'particip': 2225, 'corner': 2226, 'afternoon': 2227, 'moron': 2228, 'matrix': 2229, '1960': 2230, 'accompani': 2231, 'prostitut': 2232, 'exagger': 2233, 'corpor': 2234, 'johnson': 2235, 'holm': 2236, 'sincer': 2237, 'clair': 2238, 'multipl': 2239, 'friendli': 2240, 'instal': 2241, 'leagu': 2242, 'hood': 2243, 'doom': 2244, 'junk': 2245, 'defend': 2246, 'advis': 2247, 'string': 2248, 'blah': 2249, 'grim': 2250, 'campi': 2251, 'sunday': 2252, 'aka': 2253, 'hip': 2254, 'irish': 2255, 'examin': 2256, 'lugosi': 2257, 'varieti': 2258, 'icon': 2259, 'pro': 2260, 'tight': 2261, 'confid': 2262, 'shake': 2263, 'rachel': 2264, 'shut': 2265, 'goal': 2266, 'attach': 2267, 'sullivan': 2268, 'mexican': 2269, 'denni': 2270, 'jaw': 2271, 'medic': 2272, 'directli': 2273, 'vietnam': 2274, 'duke': 2275, 'dean': 2276, 'terrorist': 2277, 'sarah': 2278, 'prior': 2279, 'sentenc': 2280, 'bourn': 2281, 'breast': 2282, 'truck': 2283, 'legendari': 2284, 'courag': 2285, 'behav': 2286, 'hong': 2287, 'proceed': 2288, 'split': 2289, 'nose': 2290, 'entri': 2291, 'yell': 2292, 'un': 2293, 'donald': 2294, 'crush': 2295, 'gather': 2296, 'everywher': 2297, 'jerk': 2298, 'concentr': 2299, 'confess': 2300, 'unconvinc': 2301, 'swim': 2302, 'forth': 2303, 'borrow': 2304, 'buri': 2305, 'lifetim': 2306, 'stolen': 2307, 'california': 2308, 'deliveri': 2309, 'lip': 2310, 'spite': 2311, 'pan': 2312, 'julia': 2313, 'turkey': 2314, 'flight': 2315, 'hoffman': 2316, 'china': 2317, 'proud': 2318, 'reward': 2319, 'freeman': 2320, 'offici': 2321, 'downright': 2322, 'quest': 2323, 'jail': 2324, 'sink': 2325, 'fade': 2326, 'betray': 2327, 'lazi': 2328, 'encourag': 2329, 'sir': 2330, 'jon': 2331, 'notori': 2332, 'inept': 2333, 'worthwhil': 2334, 'fabul': 2335, 'shower': 2336, 'survivor': 2337, 'relev': 2338, 'retard': 2339, 'teeth': 2340, 'bell': 2341, 'cousin': 2342, 'imageri': 2343, 'bag': 2344, 'lisa': 2345, 'storm': 2346, 'branagh': 2347, 'susan': 2348, 'trade': 2349, 'hugh': 2350, 'stab': 2351, 'quirki': 2352, 'shark': 2353, 'tremend': 2354, 'finger': 2355, 'facial': 2356, 'toler': 2357, 'summari': 2358, 'mexico': 2359, 'alright': 2360, 'bride': 2361, 'hyster': 2362, 'blown': 2363, 'bitter': 2364, 'pose': 2365, 'von': 2366, 'ha': 2367, 'scheme': 2368, 'ron': 2369, 'ned': 2370, 'christ': 2371, 'cruel': 2372, 'bone': 2373, 'afterward': 2374, 'address': 2375, 'larri': 2376, 'beg': 2377, 'swear': 2378, 'distinct': 2379, 'thumb': 2380, 'tour': 2381, 'screw': 2382, 'snake': 2383, 'traci': 2384, 'feed': 2385, 'pursu': 2386, 'photo': 2387, 'raw': 2388, 'mechan': 2389, 'chair': 2390, 'obscur': 2391, 'occas': 2392, 'stomach': 2393, 'sidney': 2394, 'cabin': 2395, 'argument': 2396, 'resist': 2397, 'gruesom': 2398, 'southern': 2399, 'heavili': 2400, 'necessarili': 2401, 'render': 2402, 'holiday': 2403, 'hardi': 2404, 'chain': 2405, 'philip': 2406, 'racist': 2407, 'indulg': 2408, 'satan': 2409, 'understood': 2410, 'india': 2411, 'obnoxi': 2412, 'stalk': 2413, 'midnight': 2414, 'tongu': 2415, 'fourth': 2416, 'belov': 2417, 'outfit': 2418, 'integr': 2419, 'pregnant': 2420, 'lay': 2421, 'forgot': 2422, '17': 2423, 'restor': 2424, 'magazin': 2425, 'slapstick': 2426, 'garden': 2427, 'ticket': 2428, 'inhabit': 2429, 'deeper': 2430, 'carol': 2431, 'shoe': 2432, 'devot': 2433, 'incid': 2434, 'brad': 2435, 'lincoln': 2436, 'anticip': 2437, 'guarante': 2438, 'disbelief': 2439, 'underground': 2440, 'benefit': 2441, 'divorc': 2442, 'elizabeth': 2443, 'maria': 2444, 'lili': 2445, 'sandler': 2446, 'greater': 2447, 'mildli': 2448, 'slave': 2449, 'cring': 2450, 'amazingli': 2451, 'capit': 2452, 'princip': 2453, 'explod': 2454, 'creation': 2455, 'bbc': 2456, 'funnier': 2457, 'extraordinari': 2458, 'halfway': 2459, 'lesli': 2460, 'introduct': 2461, 'overwhelm': 2462, 'wreck': 2463, 'tap': 2464, 'advantag': 2465, 'text': 2466, 'extent': 2467, 'punish': 2468, 'enhanc': 2469, 'transfer': 2470, 'error': 2471, 'jessica': 2472, 'dynam': 2473, 'lo': 2474, 'deliber': 2475, 'plant': 2476, 'lane': 2477, 'east': 2478, 'horrif': 2479, 'preview': 2480, '2000': 2481, 'vacat': 2482, 'miscast': 2483, 'basi': 2484, 'miller': 2485, 'appli': 2486, 'vincent': 2487, 'ensu': 2488, 'sophist': 2489, 'homosexu': 2490, 'sleazi': 2491, 'uncomfort': 2492, 'bollywood': 2493, 'mansion': 2494, 'elev': 2495, 'extend': 2496, 'spoken': 2497, 'reed': 2498, 'measur': 2499, 'via': 2500, 'steel': 2501, 'alter': 2502, 'savag': 2503, 'fix': 2504, 'goofi': 2505, 'cathol': 2506, 'beer': 2507, 'daili': 2508, 'hippi': 2509, 'breathtak': 2510, 'melt': 2511, 'overact': 2512, 'blair': 2513, 'conceiv': 2514, 'mous': 2515, 'dentist': 2516, 'assign': 2517, 'stanley': 2518, 'subsequ': 2519, 'nowaday': 2520, 'burt': 2521, 'inspector': 2522, 'oppos': 2523, 'succe': 2524, 'everyday': 2525, 'properli': 2526, 'sacrific': 2527, 'carpent': 2528, 'circl': 2529, 'laura': 2530, 'block': 2531, 'neck': 2532, 'massacr': 2533, 'grey': 2534, 'mob': 2535, 'lesser': 2536, 'access': 2537, 'christi': 2538, 'concert': 2539, 'portrait': 2540, 'fay': 2541, 'pool': 2542, 'fallen': 2543, 'seagal': 2544, 'jewish': 2545, 'react': 2546, 'relax': 2547, 'competit': 2548, 'sinist': 2549, 'usa': 2550, 'isol': 2551, 'jake': 2552, 'chees': 2553, 'nine': 2554, 'immens': 2555, 'chop': 2556, 'nonetheless': 2557, '2006': 2558, 'stink': 2559, 'creep': 2560, 'spiritu': 2561, 'lyric': 2562, 'ironi': 2563, 'suitabl': 2564, 'appal': 2565, 'needless': 2566, 'luci': 2567, 'showcas': 2568, 'rage': 2569, 'reduc': 2570, 'sold': 2571, 'adopt': 2572, 'navi': 2573, 'user': 2574, 'spring': 2575, 'retir': 2576, 'shirt': 2577, 'nut': 2578, 'franchis': 2579, 'nurs': 2580, 'zone': 2581, 'digit': 2582, 'bath': 2583, 'stanwyck': 2584, 'jay': 2585, 'per': 2586, 'uninspir': 2587, 'asham': 2588, 'bulli': 2589, '2001': 2590, 'upper': 2591, 'illustr': 2592, '1940': 2593, 'laid': 2594, 'oddli': 2595, 'sutherland': 2596, 'amongst': 2597, 'broadcast': 2598, 'baker': 2599, 'throat': 2600, 'aspir': 2601, 'fulfil': 2602, 'stylish': 2603, 'disguis': 2604, 'brando': 2605, 'pound': 2606, 'endear': 2607, '18': 2608, 'neighborhood': 2609, 'pride': 2610, 'impli': 2611, 'em': 2612, 'wwii': 2613, 'wanna': 2614, 'nobl': 2615, 'thief': 2616, 'cinematograph': 2617, 'shift': 2618, 'coher': 2619, 'albeit': 2620, 'diseas': 2621, 'shoulder': 2622, 'dinner': 2623, 'tens': 2624, 'distribut': 2625, 'dawn': 2626, '16': 2627, 'prop': 2628, 'bo': 2629, 'bett': 2630, 'rochest': 2631, 'silenc': 2632, 'wash': 2633, 'function': 2634, 'shout': 2635, 'contract': 2636, 'rebel': 2637, 'snow': 2638, 'poignant': 2639, 'knife': 2640, 'forti': 2641, 'matthau': 2642, 'surf': 2643, 'chuck': 2644, 'cancel': 2645, 'proof': 2646, 'height': 2647, 'henc': 2648, 'duti': 2649, 'horrend': 2650, 'mindless': 2651, 'reunion': 2652, 'instinct': 2653, 'elvira': 2654, 'internet': 2655, 'cannib': 2656, 'derek': 2657, 'eeri': 2658, 'silver': 2659, 'widmark': 2660, 'heat': 2661, 'mill': 2662, 'premier': 2663, 'spielberg': 2664, 'neat': 2665, 'alik': 2666, 'absorb': 2667, 'glori': 2668, 'musician': 2669, 'incoher': 2670, 'repetit': 2671, 'elvi': 2672, 'pie': 2673, 'innov': 2674, 'greatli': 2675, 'torn': 2676, 'etern': 2677, 'blank': 2678, 'announc': 2679, 'redempt': 2680, 'fbi': 2681, 'infam': 2682, 'lovabl': 2683, 'trite': 2684, 'burton': 2685, 'wealthi': 2686, 'nelson': 2687, 'bang': 2688, 'horrifi': 2689, 'crisi': 2690, 'britain': 2691, 'homag': 2692, 'diamond': 2693, 'itali': 2694, 'precis': 2695, 'racism': 2696, 'helen': 2697, 'dedic': 2698, 'ensembl': 2699, 'flop': 2700, 'pat': 2701, 'hammer': 2702, 'happili': 2703, 'streisand': 2704, 'parallel': 2705, 'wilder': 2706, 'chaplin': 2707, 'resolut': 2708, 'plastic': 2709, 'carter': 2710, 'broke': 2711, 'factori': 2712, 'disagre': 2713, 'st': 2714, 'cube': 2715, 'oil': 2716, 'conclud': 2717, 'triumph': 2718, 'mar': 2719, 'own': 2720, 'row': 2721, 'march': 2722, 'rocket': 2723, 'chuckl': 2724, 'bush': 2725, 'weight': 2726, 'vega': 2727, 'climb': 2728, 'fighter': 2729, 'dane': 2730, 'mst3k': 2731, 'spare': 2732, 'sensibl': 2733, 'thug': 2734, 'unforgett': 2735, 'lust': 2736, 'enorm': 2737, 'boot': 2738, 'dump': 2739, 'wherea': 2740, 'meaning': 2741, 'kurt': 2742, 'luca': 2743, 'butt': 2744, 'dear': 2745, 'bobbi': 2746, 'fifti': 2747, 'caricatur': 2748, 'threat': 2749, 'engin': 2750, 'stress': 2751, 'difficulti': 2752, 'arnold': 2753, 'adequ': 2754, 'brand': 2755, 'rap': 2756, 'karloff': 2757, 'arrog': 2758, 'barri': 2759, 'secretari': 2760, 'homeless': 2761, 'ego': 2762, 'hamlet': 2763, 'flynn': 2764, 'swing': 2765, 'fest': 2766, 'elabor': 2767, 'ralph': 2768, 'journalist': 2769, 'polish': 2770, 'induc': 2771, 'float': 2772, 'puppet': 2773, 'tool': 2774, 'fanci': 2775, 'spike': 2776, 'simpson': 2777, 'unbear': 2778, 'resort': 2779, 'arrang': 2780, 'grate': 2781, 'conspiraci': 2782, 'guilt': 2783, 'muppet': 2784, 'pig': 2785, 'exercis': 2786, 'tribut': 2787, 'choreograph': 2788, 'basement': 2789, 'cruis': 2790, 'boll': 2791, 'phillip': 2792, 'layer': 2793, 'korean': 2794, 'medium': 2795, 'scarecrow': 2796, 'editor': 2797, 'puzzl': 2798, 'document': 2799, 'toilet': 2800, 'babe': 2801, 'file': 2802, 'slip': 2803, 'stan': 2804, 'fianc': 2805, 'ham': 2806, '24': 2807, 'item': 2808, 'ward': 2809, 'tower': 2810, 'catherin': 2811, 'territori': 2812, 'larger': 2813, 'librari': 2814, 'glover': 2815, 'minim': 2816, 'persona': 2817, 'spark': 2818, 'superfici': 2819, 'denzel': 2820, 'transit': 2821, 'doc': 2822, 'portion': 2823, 'orient': 2824, 'inexplic': 2825, 'philosoph': 2826, 'slaughter': 2827, 'assur': 2828, 'boredom': 2829, 'owe': 2830, 'sneak': 2831, 'shi': 2832, 'pg': 2833, 'dorothi': 2834, 'walken': 2835, 'financi': 2836, 'jeremi': 2837, 'ban': 2838, 'wolf': 2839, 'jet': 2840, 'curti': 2841, 'profound': 2842, 'cusack': 2843, 'metaphor': 2844, 'backdrop': 2845, 'eleph': 2846, 'hudson': 2847, 'multi': 2848, 'ambigu': 2849, 'whale': 2850, 'implaus': 2851, 'ultra': 2852, 'viru': 2853, '2005': 2854, 'gadget': 2855, 'stiff': 2856, 'rave': 2857, 'union': 2858, 'birthday': 2859, 'hack': 2860, 'elsewher': 2861, 'notion': 2862, 'hawk': 2863, 'newspap': 2864, 'poison': 2865, 'eastwood': 2866, 'pad': 2867, 'slight': 2868, 'squar': 2869, 'deriv': 2870, 'afford': 2871, 'reader': 2872, 'bibl': 2873, 'distanc': 2874, 'superhero': 2875, 'urg': 2876, 'canada': 2877, 'eva': 2878, '1st': 2879, 'lloyd': 2880, 'disc': 2881, 'essenc': 2882, 'heston': 2883, 'spread': 2884, 'drown': 2885, 'button': 2886, 'cure': 2887, 'health': 2888, 'skit': 2889, 'charisma': 2890, 'restaur': 2891, 'montag': 2892, 'huh': 2893, 'sadist': 2894, 'estat': 2895, 'companion': 2896, 'dealt': 2897, 'godfath': 2898, 'lab': 2899, 'gradual': 2900, 'scoobi': 2901, 'fetch': 2902, 'invest': 2903, 'maniac': 2904, 'peak': 2905, 'muslim': 2906, 'cup': 2907, 'servant': 2908, 'miik': 2909, 'gothic': 2910, 'countless': 2911, 'alli': 2912, 'kane': 2913, 'tea': 2914, 'subtleti': 2915, 'ritter': 2916, 'salli': 2917, 'heroic': 2918, 'charismat': 2919, 'iii': 2920, 'elect': 2921, 'briefli': 2922, 'electr': 2923, 'nuanc': 2924, 'tender': 2925, 'wannab': 2926, 'grandmoth': 2927, 'toss': 2928, 'cole': 2929, 'resourc': 2930, 'ingredi': 2931, 'neil': 2932, 'bud': 2933, 'reel': 2934, 'admittedli': 2935, 'mafia': 2936, 'pit': 2937, 'stood': 2938, 'stronger': 2939, 'label': 2940, 'shall': 2941, 'gate': 2942, 'carrey': 2943, 'mild': 2944, 'punk': 2945, 'kubrick': 2946, 'dawson': 2947, 'poverti': 2948, 'pauli': 2949, 'reev': 2950, 'assault': 2951, 'ian': 2952, 'easier': 2953, 'outcom': 2954, 'smash': 2955, 'smooth': 2956, 'bakshi': 2957, 'burst': 2958, 'cardboard': 2959, 'astair': 2960, 'tag': 2961, 'cox': 2962, 'updat': 2963, 'terri': 2964, 'useless': 2965, 'fond': 2966, 'qualifi': 2967, 'samurai': 2968, '2002': 2969, 'exchang': 2970, 'melodramat': 2971, 'fist': 2972, 'vari': 2973, 'divers': 2974, 'vulner': 2975, 'increasingli': 2976, 'sketch': 2977, 'rex': 2978, 'resolv': 2979, 'coincid': 2980, 'brillianc': 2981, 'scratch': 2982, 'insert': 2983, 'luckili': 2984, 'tame': 2985, 'be': 2986, 'suspend': 2987, 'conveni': 2988, 'reynold': 2989, 'blast': 2990, 'templ': 2991, 'coach': 2992, 'soprano': 2993, 'seventi': 2994, 'walker': 2995, 'pin': 2996, 'meat': 2997, 'nuclear': 2998, 'ambiti': 2999, 'fisher': 3000, 'gotta': 3001, 'farm': 3002, 'strictli': 3003, 'matthew': 3004, 'hamilton': 3005, 'jami': 3006, 'timeless': 3007, 'instantli': 3008, 'revers': 3009, 'grasp': 3010, 'eccentr': 3011, 'empir': 3012, 'brosnan': 3013, 'convolut': 3014, 'discoveri': 3015, 'spooki': 3016, 'kudo': 3017, 'recreat': 3018, 'clock': 3019, 'cave': 3020, 'worthless': 3021, 'joey': 3022, 'butcher': 3023, 'ninja': 3024, 'closet': 3025, 'struck': 3026, 'monk': 3027, 'bleak': 3028, 'sidekick': 3029, 'norman': 3030, 'seller': 3031, 'wipe': 3032, 'mitchel': 3033, 'gray': 3034, 'importantli': 3035, 'selfish': 3036, 'evok': 3037, 'fifteen': 3038, 'cliff': 3039, 'sloppi': 3040, 'inconsist': 3041, 'declar': 3042, 'communist': 3043, 'pal': 3044, 'clown': 3045, 'eighti': 3046, 'partli': 3047, 'miracl': 3048, 'lifestyl': 3049, 'ho': 3050, 'destin': 3051, '45': 3052, 'websit': 3053, 'seed': 3054, 'flawless': 3055, 'enthusiast': 3056, 'cheek': 3057, 'chew': 3058, 'piano': 3059, 'australia': 3060, 'debat': 3061, 'farc': 3062, 'psychiatrist': 3063, 'superbl': 3064, 'aforement': 3065, 'stoog': 3066, 'incompet': 3067, 'wrestl': 3068, 'dire': 3069, 'akshay': 3070, 'emili': 3071, 'abc': 3072, 'slice': 3073, 'soviet': 3074, 'directori': 3075, 'wick': 3076, 'bash': 3077, 'anni': 3078, 'drivel': 3079, 'regardless': 3080, 'splatter': 3081, 'pressur': 3082, 'kitchen': 3083, 'dash': 3084, 'seduc': 3085, 'duo': 3086, 'helicopt': 3087, 'cameron': 3088, 'beaten': 3089, 'flower': 3090, 'curios': 3091, 'glow': 3092, 'prize': 3093, 'recov': 3094, 'increas': 3095, 'pleasantli': 3096, 'distant': 3097, 'doo': 3098, 'boil': 3099, 'lou': 3100, 'dave': 3101, 'ken': 3102, 'suppli': 3103, 'artifici': 3104, 'mann': 3105, 'cia': 3106, 'judi': 3107, 'jar': 3108, 'blob': 3109, 'chapter': 3110, 'cagney': 3111, 'glenn': 3112, 'favour': 3113, 'craig': 3114, 'hop': 3115, 'goldberg': 3116, 'perri': 3117, 'splendid': 3118, 'psychot': 3119, 'laurel': 3120, 'drunken': 3121, 'turner': 3122, 'combat': 3123, 'ranger': 3124, 'craven': 3125, 'web': 3126, 'ellen': 3127, 'eleg': 3128, 'francisco': 3129, 'panic': 3130, 'alexand': 3131, 'graduat': 3132, 'hatr': 3133, 'plausibl': 3134, 'min': 3135, 'ruth': 3136, 'falk': 3137, 'slightest': 3138, 'gentl': 3139, 'gandhi': 3140, 'flip': 3141, 'wizard': 3142, 'rid': 3143, 'shortli': 3144, 'greek': 3145, 'fx': 3146, 'philosophi': 3147, 'modesti': 3148, '20th': 3149, 'legal': 3150, 'manhattan': 3151, 'knight': 3152, 'unpleas': 3153, 'preciou': 3154, 'futurist': 3155, 'harm': 3156, 'holi': 3157, 'lend': 3158, 'dracula': 3159, 'ocean': 3160, 'tall': 3161, 'fund': 3162, 'jealou': 3163, 'we': 3164, 'felix': 3165, 'ami': 3166, 'nod': 3167, 'childish': 3168, 'overdon': 3169, 'tank': 3170, 'reviv': 3171, 'explicit': 3172, 'mock': 3173, 'giallo': 3174, 'forbidden': 3175, 'digniti': 3176, 'bless': 3177, 'scientif': 3178, 'thread': 3179, 'fever': 3180, 'unwatch': 3181, 'elderli': 3182, 'awe': 3183, 'mel': 3184, 'torment': 3185, 'thick': 3186, '2004': 3187, 'broad': 3188, 'pirat': 3189, 'nerv': 3190, 'awaken': 3191, 'eve': 3192, 'margaret': 3193, 'verhoeven': 3194, 'yesterday': 3195, '99': 3196, 'repeatedli': 3197, 'lean': 3198, 'launch': 3199, 'rivet': 3200, 'ambit': 3201, 'uniform': 3202, 'griffith': 3203, 'publish': 3204, 'bin': 3205, 'custom': 3206, 'ah': 3207, 'acclaim': 3208, 'royal': 3209, 'politician': 3210, 'kay': 3211, 'eas': 3212, 'romero': 3213, 'timothi': 3214, 'automat': 3215, 'absenc': 3216, 'stiller': 3217, 'roman': 3218, 'sunshin': 3219, 'antic': 3220, 'gabriel': 3221, 'darker': 3222, 'pierc': 3223, 'bathroom': 3224, 'warren': 3225, 'wallac': 3226, 'phrase': 3227, 'termin': 3228, 'tomato': 3229, 'crook': 3230, 'pulp': 3231, 'homicid': 3232, 'transport': 3233, 'foul': 3234, 'stinker': 3235, 'purpl': 3236, 'pray': 3237, 'awak': 3238, 'contrari': 3239, 'q': 3240, 'evolv': 3241, 'karen': 3242, 'horrid': 3243, 'sixti': 3244, 'packag': 3245, 'marin': 3246, 'coloni': 3247, 'album': 3248, 'saint': 3249, 'rambo': 3250, '2003': 3251, 'revolutionari': 3252, 'donna': 3253, 'brazil': 3254, 'viciou': 3255, 'eyr': 3256, 'li': 3257, 'ought': 3258, 'juvenil': 3259, 'kenneth': 3260, 'hollow': 3261, 'choreographi': 3262, 'prom': 3263, 'boast': 3264, 'defi': 3265, 'dose': 3266, 'blade': 3267, 'option': 3268, 'nerd': 3269, 'overr': 3270, 'twelv': 3271, 'ireland': 3272, 'candid': 3273, 'stole': 3274, 'kapoor': 3275, 'conserv': 3276, 'beatti': 3277, 'ramon': 3278, 'mummi': 3279, 'mildr': 3280, 'protest': 3281, 'astonish': 3282, 'detract': 3283, 'kirk': 3284, 'jazz': 3285, 'flame': 3286, 'confirm': 3287, 'natali': 3288, 'collabor': 3289, 'global': 3290, 'altman': 3291, 'trio': 3292, 'funer': 3293, 'fulci': 3294, 'yellow': 3295, 'racial': 3296, 'spit': 3297, 'destini': 3298, 'delici': 3299, 'tommi': 3300, 'shade': 3301, 'leap': 3302, 'whip': 3303, 'blake': 3304, 'audio': 3305, 'mystic': 3306, 'enterpris': 3307, 'bottl': 3308, 'bull': 3309, 'nicholson': 3310, 'enchant': 3311, 'merci': 3312, 'fonda': 3313, 'pseudo': 3314, 'popcorn': 3315, 'meaningless': 3316, 'inherit': 3317, 'altogeth': 3318, 'harder': 3319, 'adolesc': 3320, 'vivid': 3321, 'bedroom': 3322, 'visibl': 3323, 'neo': 3324, 'todd': 3325, 'reunit': 3326, 'swedish': 3327, 'staff': 3328, 'threw': 3329, 'suspici': 3330, 'ruthless': 3331, 'decor': 3332, 'await': 3333, 'kennedi': 3334, 'befriend': 3335, 'reserv': 3336, 'bust': 3337, 'leonard': 3338, 'tip': 3339, 'moodi': 3340, 'voight': 3341, 'respond': 3342, 'synopsi': 3343, 'edi': 3344, 'wire': 3345, 'lawrenc': 3346, 'jew': 3347, 'crocodil': 3348, 'exhibit': 3349, 'madonna': 3350, 'uneven': 3351, 'atlanti': 3352, 'fanat': 3353, 'roommat': 3354, 'lemmon': 3355, '2007': 3356, 'centr': 3357, 'ventur': 3358, 'bold': 3359, 'voyag': 3360, 'chao': 3361, 'clint': 3362, 'incident': 3363, 'audit': 3364, 'dimens': 3365, 'bargain': 3366, 'bradi': 3367, 'rural': 3368, 'abysm': 3369, 'holli': 3370, 'garner': 3371, 'clumsi': 3372, 'unsettl': 3373, 'palma': 3374, 'carl': 3375, 'daddi': 3376, 'lit': 3377, 'elimin': 3378, 'versu': 3379, 'nearbi': 3380, 'poetic': 3381, 'imperson': 3382, 'tiger': 3383, 'acknowledg': 3384, 'cd': 3385, 'hart': 3386, 'characterist': 3387, 'wealth': 3388, 'troop': 3389, 'humili': 3390, 'cari': 3391, 'trail': 3392, 'cuba': 3393, '2nd': 3394, 'neglect': 3395, 'ant': 3396, 'echo': 3397, 'immigr': 3398, 'mall': 3399, 'timon': 3400, 'paus': 3401, 'collaps': 3402, 'pun': 3403, 'infect': 3404, 'mistaken': 3405, 'celluloid': 3406, 'prejudic': 3407, 'marshal': 3408, 'domest': 3409, 'repuls': 3410, 'jeffrey': 3411, 'solo': 3412, 'homer': 3413, 'mickey': 3414, 'saga': 3415, 'milk': 3416, 'apolog': 3417, 'tribe': 3418, 'gear': 3419, 'interrupt': 3420, 'chest': 3421, 'harvey': 3422, 'coffe': 3423, 'sore': 3424, 'assembl': 3425, 'ginger': 3426, 'leon': 3427, 'inan': 3428, 'promin': 3429, 'inappropri': 3430, 'equip': 3431, 'hbo': 3432, '1996': 3433, 'undoubtedli': 3434, 'pant': 3435, 'coat': 3436, 'olivi': 3437, 'cake': 3438, 'devast': 3439, 'solut': 3440, 'florida': 3441, 'pen': 3442, 'colleagu': 3443, 'trace': 3444, 'aveng': 3445, 'institut': 3446, 'retain': 3447, 'instant': 3448, 'vulgar': 3449, 'airplan': 3450, 'embrac': 3451, 'maggi': 3452, 'furthermor': 3453, 'pot': 3454, 'exot': 3455, 'highest': 3456, 'primari': 3457, 'humbl': 3458, 'jenni': 3459, 'brooklyn': 3460, 'consum': 3461, 'polanski': 3462, 'colonel': 3463, 'illog': 3464, 'smaller': 3465, 'bowl': 3466, 'gender': 3467, 'rick': 3468, 'principl': 3469, 'wive': 3470, 'ya': 3471, 'disabl': 3472, 'dian': 3473, 'strain': 3474, 'outer': 3475, 'sale': 3476, 'poke': 3477, 'linda': 3478, 'dutch': 3479, 'godzilla': 3480, '3rd': 3481, 'descend': 3482, '1999': 3483, 'cope': 3484, 'seduct': 3485, 'vast': 3486, 'scope': 3487, 'gloriou': 3488, 'mixtur': 3489, 'beneath': 3490, 'lol': 3491, 'dud': 3492, 'rabbit': 3493, 'blatant': 3494, 'bubbl': 3495, 'devoid': 3496, 'glamor': 3497, 'cue': 3498, 'dive': 3499, 'primarili': 3500, 'hal': 3501, 'secondli': 3502, 'yard': 3503, 'inferior': 3504, 'predecessor': 3505, 'gundam': 3506, 'streep': 3507, 'april': 3508, 'aggress': 3509, 'domino': 3510, 'talki': 3511, 'shelf': 3512, 'alfr': 3513, 'z': 3514, 'pearl': 3515, 'shirley': 3516, 'simplist': 3517, 'breed': 3518, 'alert': 3519, 'garbo': 3520, 'invas': 3521, 'trademark': 3522, 'grinch': 3523, 'hideou': 3524, 'casual': 3525, 'disjoint': 3526, 'senseless': 3527, 'countrysid': 3528, 'et': 3529, 'myer': 3530, 'museum': 3531, 'arab': 3532, 'defens': 3533, 'robberi': 3534, 'robinson': 3535, 'mayor': 3536, 'khan': 3537, 'experiment': 3538, 'vanish': 3539, 'boom': 3540, 'applaud': 3541, 'stack': 3542, 'hardcor': 3543, 'obtain': 3544, 'loyal': 3545, 'unhappi': 3546, 'mail': 3547, 'acid': 3548, 'maci': 3549, 'slide': 3550, 'rendit': 3551, 'uwe': 3552, 'illeg': 3553, 'sh': 3554, 'disgrac': 3555, 'stellar': 3556, 'stir': 3557, 'hopeless': 3558, 'oz': 3559, 'tempt': 3560, 'diana': 3561, 'dicken': 3562, 'amanda': 3563, 'soccer': 3564, 'craze': 3565, 'rifl': 3566, 'hartley': 3567, 'incomprehens': 3568, 'declin': 3569, 'dismiss': 3570, 'spider': 3571, 'span': 3572, 'fri': 3573, 'grandfath': 3574, 'berlin': 3575, 'tenant': 3576, 'counter': 3577, 'blew': 3578, 'emphasi': 3579, 'wont': 3580, 'topless': 3581, 'psychic': 3582, 'recruit': 3583, 'scroog': 3584, 'sibl': 3585, 'woo': 3586, 'lumet': 3587, 'revolt': 3588, 'porno': 3589, 'shed': 3590, 'resurrect': 3591, 'ethnic': 3592, 'faster': 3593, 'riot': 3594, 'niro': 3595, 'justin': 3596, 'shaw': 3597, 'wet': 3598, 'trashi': 3599, 'sympath': 3600, 'intim': 3601, 'parad': 3602, 'ration': 3603, 'goer': 3604, 'bitch': 3605, 'hesit': 3606, 'slick': 3607, 'patriot': 3608, 'commend': 3609, 'rider': 3610, 'nephew': 3611, 'hopper': 3612, 'honesti': 3613, 'gap': 3614, 'wendi': 3615, 'unreal': 3616, 'steam': 3617, 'farmer': 3618, 'choru': 3619, 'immort': 3620, 'ensur': 3621, 'eager': 3622, 'mario': 3623, 'andr': 3624, 'worm': 3625, '00': 3626, 'region': 3627, 'wheel': 3628, 'enlighten': 3629, 'biographi': 3630, 'feminist': 3631, 'ballet': 3632, 'jonathan': 3633, 'weakest': 3634, 'dealer': 3635, 'partial': 3636, 'lena': 3637, 'wore': 3638, 'composit': 3639, 'victori': 3640, 'util': 3641, 'similarli': 3642, 'psychopath': 3643, 'skull': 3644, 'safeti': 3645, 'prequel': 3646, 'sandra': 3647, 'vice': 3648, 'blunt': 3649, 'confin': 3650, 'mutant': 3651, 'nostalg': 3652, 'properti': 3653, 'macarthur': 3654, 'franco': 3655, 'kingdom': 3656, 'charlott': 3657, 'morri': 3658, 'snap': 3659, 'repress': 3660, 'hung': 3661, 'leo': 3662, 'sappi': 3663, 'owen': 3664, 'hyde': 3665, 'bumbl': 3666, '1972': 3667, 'heartbreak': 3668, 'miseri': 3669, 'despair': 3670, 'rope': 3671, 'repli': 3672, 'thru': 3673, 'tad': 3674, 'speci': 3675, 'exit': 3676, 'valuabl': 3677, 'cg': 3678, 'rocki': 3679, 'strand': 3680, 'farrel': 3681, 'pattern': 3682, 'snl': 3683, 'tail': 3684, 'rambl': 3685, 'bow': 3686, 'deed': 3687, 'latin': 3688, 'recycl': 3689, 'dalton': 3690, 'kyle': 3691, 'compass': 3692, 'campbel': 3693, 'bonu': 3694, 'acquir': 3695, 'drain': 3696, 'whoopi': 3697, 'del': 3698, 'compens': 3699, 'bergman': 3700, 'drum': 3701, 'nervou': 3702, 'montana': 3703, 'dust': 3704, 'emperor': 3705, 'rapist': 3706, 'oppress': 3707, 'pour': 3708, 'carradin': 3709, 'wacki': 3710, 'downhil': 3711, 'contempl': 3712, '35': 3713, 'gimmick': 3714, 'tonight': 3715, 'radic': 3716, 'mistress': 3717, 'rotten': 3718, 'percept': 3719, 'chess': 3720, 'olli': 3721, 'orson': 3722, 'romp': 3723, 'da': 3724, 'airport': 3725, 'bleed': 3726, 'gal': 3727, 'martian': 3728, 'slug': 3729, 'roth': 3730, 'banal': 3731, 'arc': 3732, 'programm': 3733, 'taught': 3734, 'dazzl': 3735, 'arguabl': 3736, 'belt': 3737, 'attorney': 3738, 'melodi': 3739, 'slash': 3740, 'edgar': 3741, 'paltrow': 3742, 'preach': 3743, 'unpredict': 3744, 'pervert': 3745, 'shelley': 3746, '1983': 3747, 'heal': 3748, 'tooth': 3749, 'pervers': 3750, 'champion': 3751, 'stilt': 3752, 'pursuit': 3753, 'mislead': 3754, 'tackl': 3755, 'vengeanc': 3756, 'plight': 3757, 'employe': 3758, 'closest': 3759, 'tiresom': 3760, 'chicken': 3761, 'maid': 3762, 'orang': 3763, 'rubi': 3764, 'poem': 3765, 'duval': 3766, 'franki': 3767, 'sensat': 3768, 'gambl': 3769, 'raymond': 3770, 'conneri': 3771, 'uplift': 3772, 'vocal': 3773, 'passeng': 3774, 'virginia': 3775, 'cleverli': 3776, 'mesmer': 3777, 'graham': 3778, 'bela': 3779, 'dixon': 3780, 'marti': 3781, 'iran': 3782, 'inject': 3783, 'whine': 3784, 'suffic': 3785, 'gerard': 3786, 'monologu': 3787, 'lundgren': 3788, 'convincingli': 3789, 'extens': 3790, 'mute': 3791, 'clone': 3792, 'volum': 3793, 'swallow': 3794, 'numb': 3795, 'climact': 3796, 'outing': 3797, 'engross': 3798, 'sirk': 3799, 'giggl': 3800, 'abraham': 3801, 'amitabh': 3802, 'paranoia': 3803, 'bay': 3804, 'calm': 3805, 'scottish': 3806, 'profan': 3807, 'habit': 3808, '1968': 3809, 'quarter': 3810, 'secretli': 3811, 'yawn': 3812, 'tube': 3813, 'crystal': 3814, 'pokemon': 3815, 'nichola': 3816, 'chicago': 3817, 'ethan': 3818, 'profess': 3819, 'dispos': 3820, 'plod': 3821, 'junior': 3822, 'taxi': 3823, 'meander': 3824, 'frankenstein': 3825, 'underst': 3826, 'austen': 3827, 'septemb': 3828, 'linger': 3829, 'im': 3830, 'trend': 3831, 'expand': 3832, 'earl': 3833, 'surpass': 3834, 'richardson': 3835, 'fed': 3836, 'franci': 3837, 'bend': 3838, 'lowest': 3839, 'poetri': 3840, 'abort': 3841, 'backward': 3842, 'grotesqu': 3843, 'spock': 3844, 'mundan': 3845, 'instrument': 3846, 'dysfunct': 3847, 'nostalgia': 3848, 'spoke': 3849, 'descent': 3850, 'household': 3851, 'muddl': 3852, 'cannon': 3853, 'econom': 3854, 'sue': 3855, 'rubber': 3856, 'rant': 3857, 'waitress': 3858, 'simplic': 3859, 'literatur': 3860, 'stallon': 3861, 'catchi': 3862, 'der': 3863, 'eugen': 3864, 'compliment': 3865, 'greedi': 3866, 'tourist': 3867, 'myth': 3868, 'lure': 3869, 'hum': 3870, 'mankind': 3871, 'furi': 3872, 'crucial': 3873, 'map': 3874, 'recognit': 3875, 'sissi': 3876, 'lang': 3877, 'phoni': 3878, 'occupi': 3879, 'equival': 3880, 'stale': 3881, 'louis': 3882, 'june': 3883, 'randi': 3884, 'alongsid': 3885, 'mortal': 3886, 'deaf': 3887, 'cent': 3888, 'bacal': 3889, 'insur': 3890, 'recognis': 3891, 'duck': 3892, 'coast': 3893, 'damon': 3894, 'hello': 3895, 'firstli': 3896, 'molli': 3897, 'irrelev': 3898, 'phantom': 3899, 'omen': 3900, 'flee': 3901, 'eaten': 3902, 'dement': 3903, 'dictat': 3904, 'carel': 3905, 'dreari': 3906, 'loyalti': 3907, 'daisi': 3908, 'distinguish': 3909, 'labor': 3910, 'bike': 3911, 'onlin': 3912, 'reign': 3913, 'ashley': 3914, '1973': 3915, 'blackmail': 3916, 'antwon': 3917, 'twilight': 3918, 'wisdom': 3919, 'bump': 3920, 'newli': 3921, 'drake': 3922, 'heel': 3923, 'likewis': 3924, 'freez': 3925, 'lengthi': 3926, 'rooney': 3927, 'rude': 3928, 'damm': 3929, 'biko': 3930, 'buffalo': 3931, 'cyborg': 3932, 'grayson': 3933, 'attribut': 3934, 'worn': 3935, 'provoc': 3936, 'pink': 3937, 'proce': 3938, 'prey': 3939, 'incorpor': 3940, 'baddi': 3941, 'tunnel': 3942, 'boxer': 3943, 'unorigin': 3944, 'approv': 3945, 'exposur': 3946, 'startl': 3947, 'barrymor': 3948, 'chronicl': 3949, 'analysi': 3950, 'keith': 3951, 'butler': 3952, 'inher': 3953, 'basketbal': 3954, 'sailor': 3955, 'nineti': 3956, 'emphas': 3957, 'ridden': 3958, 'vein': 3959, 'interior': 3960, 'predat': 3961, 'unrel': 3962, 'er': 3963, 'bunni': 3964, 'undeni': 3965, 'degrad': 3966, 'drift': 3967, 'substitut': 3968, 'walsh': 3969, 'nicol': 3970, 'julian': 3971, 'belushi': 3972, 'robbin': 3973, 'condemn': 3974, 'mighti': 3975, 'stalker': 3976, 'hypnot': 3977, 'fleet': 3978, 'millionair': 3979, 'carla': 3980, 'improvis': 3981, 'barrel': 3982, 'indiffer': 3983, 'othello': 3984, 'simmon': 3985, 'underli': 3986, 'mormon': 3987, 'meyer': 3988, 'meg': 3989, 'elm': 3990, 'enthusiasm': 3991, 'mtv': 3992, 'nyc': 3993, 'lampoon': 3994, 'warmth': 3995, 'reid': 3996, 'dolph': 3997, 'hay': 3998, 'palac': 3999, 'unawar': 4000, 'vital': 4001, 'watson': 4002, 'disord': 4003, 'alarm': 4004, 'firm': 4005, 'shove': 4006, 'marion': 4007, 'greed': 4008, 'novak': 4009, 'priceless': 4010, 'agenda': 4011, '3d': 4012, 'edgi': 4013, 'roof': 4014, 'rukh': 4015, 'errol': 4016, 'alison': 4017, 'exquisit': 4018, 'nun': 4019, 'coup': 4020, 'simultan': 4021, 'testament': 4022, 'distort': 4023, 'gestur': 4024, 'crown': 4025, 'eastern': 4026, 'what': 4027, 'sergeant': 4028, 'zizek': 4029, 'valentin': 4030, '13th': 4031, 'profit': 4032, 'drip': 4033, 'ponder': 4034, '1933': 4035, 'thompson': 4036, 'beatl': 4037, 'iraq': 4038, 'petti': 4039, 'angela': 4040, 'spain': 4041, 'glanc': 4042, 'peck': 4043, 'campaign': 4044, 'pamela': 4045, 'cassidi': 4046, 'session': 4047, 'showdown': 4048, 'minimum': 4049, 'peril': 4050, 'randomli': 4051, 'unleash': 4052, 'israel': 4053, 'championship': 4054, 'preserv': 4055, 'orlean': 4056, 'reson': 4057, 'rout': 4058, 'unimagin': 4059, 'empathi': 4060, 'cooki': 4061, 'realm': 4062, 'calib': 4063, 'miyazaki': 4064, 'stake': 4065, 'kurosawa': 4066, 'shootout': 4067, 'restrain': 4068, 'exposit': 4069, 'quinn': 4070, 'bro': 4071, 'valley': 4072, 'fido': 4073, 'gentleman': 4074, 'climat': 4075, 'jan': 4076, 'wig': 4077, 'cream': 4078, 'din': 4079, '1984': 4080, 'crow': 4081, 'regist': 4082, 'brenda': 4083, 'perpetu': 4084, 'buster': 4085, 'scotland': 4086, 'travesti': 4087, 'represent': 4088, 'contradict': 4089, 'mon': 4090, 'crawl': 4091, 'sabrina': 4092, 'stroke': 4093, 'han': 4094, 'meryl': 4095, '1997': 4096, 'delic': 4097, 'geek': 4098, 'demis': 4099, 'greg': 4100, 'abomin': 4101, 'fuller': 4102, 'shaki': 4103, 'perceiv': 4104, 'monoton': 4105, 'ross': 4106, 'compromis': 4107, 'unsatisfi': 4108, 'pretens': 4109, 'femm': 4110, 'painter': 4111, 'derang': 4112, 'traumat': 4113, 'spacey': 4114, 'tacki': 4115, 'censor': 4116, 'ustinov': 4117, 'josh': 4118, 'cloud': 4119, 'businessman': 4120, 'crawford': 4121, '1987': 4122, 'absent': 4123, 'mclaglen': 4124, 'shoddi': 4125, 'pole': 4126, 'dana': 4127, 'warrant': 4128, 'distress': 4129, 'unseen': 4130, 'baldwin': 4131, 'wax': 4132, 'sammi': 4133, 'passabl': 4134, 'stargat': 4135, 'sucker': 4136, 'darren': 4137, 'soderbergh': 4138, 'nathan': 4139, 'unravel': 4140, 'tech': 4141, 'sid': 4142, 'valid': 4143, 'fog': 4144, 'tarantino': 4145, 'seal': 4146, 'kumar': 4147, 'jewel': 4148, 'correctli': 4149, 'uncov': 4150, 'verbal': 4151, 'expedit': 4152, 'polici': 4153, 'judgment': 4154, 'reluct': 4155, 'fenc': 4156, 'deceas': 4157, 'furiou': 4158, 'primit': 4159, '1993': 4160, 'austin': 4161, 'click': 4162, 'accuraci': 4163, 'exclus': 4164, 'wholli': 4165, 'anchor': 4166, 'clash': 4167, 'dee': 4168, 'deniro': 4169, 'norm': 4170, 'antonioni': 4171, 'wang': 4172, '1995': 4173, 'debt': 4174, 'crippl': 4175, 'mode': 4176, 'wretch': 4177, '3000': 4178, 'behold': 4179, 'temper': 4180, 'bake': 4181, 'fabric': 4182, 'logan': 4183, '2008': 4184, 'conduct': 4185, 'patienc': 4186, 'roller': 4187, 'slam': 4188, 'enforc': 4189, 'seldom': 4190, '1971': 4191, 'unfair': 4192, 'shanghai': 4193, 'clerk': 4194, 'tax': 4195, 'malon': 4196, 'trait': 4197, 'dreck': 4198, 'sunni': 4199, 'fought': 4200, 'hallucin': 4201, 'murray': 4202, 'fart': 4203, 'darn': 4204, 'nicola': 4205, 'vanc': 4206, 'sheet': 4207, 'ritual': 4208, 'pocket': 4209, 'sustain': 4210, 'joel': 4211, 'alec': 4212, 'sand': 4213, 'penni': 4214, 'grief': 4215, 'divid': 4216, 'sweep': 4217, 'robber': 4218, 'bridget': 4219, 'outlin': 4220, 'squad': 4221, 'soup': 4222, 'critiqu': 4223, 'pete': 4224, 'legaci': 4225, 'canyon': 4226, 'phil': 4227, 'fundament': 4228, 'tactic': 4229, 'runner': 4230, 'stark': 4231, 'scriptwrit': 4232, 'isabel': 4233, 'schedul': 4234, 'helpless': 4235, 'clau': 4236, 'despis': 4237, 'preston': 4238, 'exhaust': 4239, 'guitar': 4240, 'preposter': 4241, 'rita': 4242, 'shell': 4243, 'technicolor': 4244, 'conscious': 4245, 'bias': 4246, 'stuart': 4247, 'alley': 4248, 'jacket': 4249, 'lacklust': 4250, 'delv': 4251, 'culmin': 4252, 'vomit': 4253, 'russia': 4254, 'cigarett': 4255, 'consciou': 4256, 'boyl': 4257, 'marc': 4258, 'propos': 4259, 'agenc': 4260, 'newman': 4261, 'liberti': 4262, 'flair': 4263, 'jodi': 4264, 'alicia': 4265, 'gregori': 4266, 'invad': 4267, 'drove': 4268, 'restrict': 4269, 'rehash': 4270, 'bloom': 4271, 'passag': 4272, 'sugar': 4273, 'downey': 4274, 'kansa': 4275, 'palanc': 4276, 'rear': 4277, 'implic': 4278, 'inabl': 4279, 'unexpectedli': 4280, 'sniper': 4281, 'connor': 4282, 'sentinel': 4283, 'feat': 4284, 'tripe': 4285, '22': 4286, 'asylum': 4287, 'tendenc': 4288, 'mccoy': 4289, 'karl': 4290, 'ladder': 4291, '1936': 4292, 'vet': 4293, 'horn': 4294, 'pale': 4295, 'rehears': 4296, 'sharon': 4297, 'delet': 4298, 'improb': 4299, 'chainsaw': 4300, 'aesthet': 4301, 'lush': 4302, 'behaviour': 4303, 'foxx': 4304, 'wrench': 4305, 'rod': 4306, 'awhil': 4307, 'bacon': 4308, 'cap': 4309, 'rampag': 4310, 'arrow': 4311, 'yeti': 4312, 'kolchak': 4313, '19th': 4314, 'stream': 4315, '1978': 4316, 'lurk': 4317, 'rumor': 4318, 'visitor': 4319, 'tasteless': 4320, 'hungri': 4321, 'weav': 4322, 'underneath': 4323, 'newcom': 4324, 'shortcom': 4325, 'suffici': 4326, 'suspicion': 4327, 'financ': 4328, '1988': 4329, 'loneli': 4330, '1920': 4331, 'el': 4332, 'coaster': 4333, 'thunderbird': 4334, 'globe': 4335, 'rhythm': 4336, 'wildli': 4337, 'prank': 4338, 'tomorrow': 4339, 'conscienc': 4340, 'aristocrat': 4341, 'scoop': 4342, 'spice': 4343, 'fright': 4344, 'hulk': 4345, 'elit': 4346, 'amazon': 4347, 'sung': 4348, 'hackney': 4349, 'paramount': 4350, 'filler': 4351, 'minu': 4352, 'wagner': 4353, 'paradis': 4354, 'basing': 4355, 'impos': 4356, 'quietli': 4357, 'en': 4358, 'minist': 4359, 'heist': 4360, 'springer': 4361, 'worship': 4362, 'counterpart': 4363, '75': 4364, 'dirt': 4365, 'secondari': 4366, 'cancer': 4367, 'beverli': 4368, 'literari': 4369, 'ingeni': 4370, 'penn': 4371, 'paxton': 4372, 'atroc': 4373, 'couch': 4374, 'grudg': 4375, 'chavez': 4376, 'immers': 4377, 'inmat': 4378, 'bread': 4379, '1939': 4380, '1989': 4381, 'naughti': 4382, 'ram': 4383, 'rub': 4384, 'abrupt': 4385, 'posey': 4386, 'recogniz': 4387, 'choppi': 4388, 'leigh': 4389, 'tierney': 4390, 'smell': 4391, 'wwe': 4392, 'lectur': 4393, 'straightforward': 4394, 'brit': 4395, 'teas': 4396, 'hopkin': 4397, 'curli': 4398, 'chamberlain': 4399, 'iv': 4400, 'standout': 4401, 'entranc': 4402, 'esther': 4403, 'yearn': 4404, 'sublim': 4405, 'nolan': 4406, 'nemesi': 4407, 'heartfelt': 4408, 'missil': 4409, 'convert': 4410, 'skeptic': 4411, 'watcher': 4412, 'injuri': 4413, 'ratso': 4414, 'sassi': 4415, 'variat': 4416, 'attenborough': 4417, 'transcend': 4418, 'morbid': 4419, 'bernard': 4420, 'net': 4421, 'quaid': 4422, 'enthral': 4423, 'ace': 4424, 'clan': 4425, 'entitl': 4426, 'duel': 4427, 'lindsay': 4428, 'cattl': 4429, 'policeman': 4430, 'moreov': 4431, 'geni': 4432, 'laurenc': 4433, 'misguid': 4434, '1986': 4435, 'enabl': 4436, 'graini': 4437, 'facil': 4438, 'youngest': 4439, 'bean': 4440, 'buzz': 4441, 'egg': 4442, 'unexplain': 4443, 'tyler': 4444, 'obstacl': 4445, 'diari': 4446, 'cruelti': 4447, 'out': 4448, 'poe': 4449, 'puppi': 4450, 'dont': 4451, '1979': 4452, 'characteris': 4453, 'reliabl': 4454, 'steadi': 4455, 'kitti': 4456, 'spiral': 4457, 'mytholog': 4458, 'uncut': 4459, 'hopelessli': 4460, 'moder': 4461, 'kidman': 4462, 'artsi': 4463, 'setup': 4464, 'carlito': 4465, 'bye': 4466, 'brood': 4467, 'rosemari': 4468, 'grin': 4469, 'hk': 4470, 'vader': 4471, 'narrow': 4472, '1969': 4473, 'oblig': 4474, 'acquaint': 4475, 'underworld': 4476, 'niec': 4477, 'gina': 4478, 'kline': 4479, 'sweat': 4480, 'bewar': 4481, 'fuel': 4482, 'bronson': 4483, 'spontan': 4484, 'hain': 4485, 'exterior': 4486, 'baffl': 4487, 'martha': 4488, 'preming': 4489, 'hammi': 4490, 'athlet': 4491, 'bounc': 4492, 'weather': 4493, 'decept': 4494, 'disastr': 4495, 'gillian': 4496, 'christin': 4497, 'clueless': 4498, 'heap': 4499, 'patricia': 4500, 'despic': 4501, 'brendan': 4502, 'effici': 4503, 'loath': 4504, 'insipid': 4505, 'taboo': 4506, 'scar': 4507, 'injur': 4508, 'lester': 4509, 'trigger': 4510, 'biker': 4511, 'analyz': 4512, 'dandi': 4513, 'loi': 4514, 'hepburn': 4515, 'shatter': 4516, 'viewpoint': 4517, 'candl': 4518, 'harmless': 4519, 'sleepwalk': 4520, 'virtu': 4521, 'tick': 4522, 'uh': 4523, 'suprem': 4524, 'fontain': 4525, 'enlist': 4526, '19': 4527, 'rome': 4528, 'goof': 4529, 'mayhem': 4530, 'headach': 4531, 'mermaid': 4532, 'sooner': 4533, '73': 4534, 'renaiss': 4535, 'dilemma': 4536, 'astound': 4537, 'angst': 4538, 'outlaw': 4539, 'preachi': 4540, 'housewif': 4541, 'circu': 4542, 'phenomenon': 4543, 'scorses': 4544, 'ebert': 4545, 'salt': 4546, 'bent': 4547, 'whore': 4548, 'stimul': 4549, 'zoom': 4550, 'boston': 4551, 'glorifi': 4552, 'intric': 4553, 'filth': 4554, 'fluff': 4555, 'ariel': 4556, 'dish': 4557, 'idol': 4558, 'foolish': 4559, 'oldest': 4560, 'hokey': 4561, 'slimi': 4562, 'surgeri': 4563, 'overlong': 4564, 'tripl': 4565, 'steer': 4566, 'macho': 4567, 'immatur': 4568, 'hooker': 4569, 'contempt': 4570, 'amor': 4571, 'cassavet': 4572, 'stair': 4573, 'claustrophob': 4574, 'dismal': 4575, 'spade': 4576, 'hostag': 4577, 'redund': 4578, 'corbett': 4579, 'camcord': 4580, 'gere': 4581, 'guin': 4582, 'sox': 4583, 'dwarf': 4584, 'shred': 4585, '1976': 4586, 'fascist': 4587, 'assert': 4588, 'faint': 4589, 'flirt': 4590, 'mutual': 4591, 'radiat': 4592, 'margin': 4593, 'widescreen': 4594, 'flag': 4595, 'proport': 4596, 'cush': 4597, 'spree': 4598, 'joker': 4599, 'conquer': 4600, 'shield': 4601, 'gabl': 4602, 'corman': 4603, 'keen': 4604, 'trivia': 4605, 'messi': 4606, 'astronaut': 4607, 'remad': 4608, 'antagonist': 4609, '1981': 4610, 'harold': 4611, 'obligatori': 4612, 'preced': 4613, 'perman': 4614, 'cow': 4615, 'mount': 4616, 'strongest': 4617, 'muscl': 4618, 'gasp': 4619, 'down': 4620, 'schlock': 4621, 'cohen': 4622, 'frantic': 4623, 'flashi': 4624, 'transplant': 4625, 'naschi': 4626, 'alvin': 4627, 'nolt': 4628, 'spinal': 4629, 'rhyme': 4630, 'beard': 4631, 'zane': 4632, 'interestingli': 4633, 'wield': 4634, 'bachelor': 4635, '28': 4636, 'departur': 4637, 'www': 4638, 'triangl': 4639, 'ritchi': 4640, 'instruct': 4641, 'mobil': 4642, 'brush': 4643, 'off': 4644, 'someday': 4645, 'divin': 4646, 'strive': 4647, 'boob': 4648, 'persuad': 4649, 'inflict': 4650, 'neurot': 4651, 'discern': 4652, '95': 4653, 'info': 4654, 'archiv': 4655, 'resum': 4656, 'barn': 4657, 'claud': 4658, 'raj': 4659, 'vaniti': 4660, 'bitten': 4661, 'sensual': 4662, 'repris': 4663, 'scandal': 4664, 'carey': 4665, 'danish': 4666, 'aborigin': 4667, 'fishburn': 4668, 'mol': 4669, '1945': 4670, 'hara': 4671, 'flock': 4672, 'deer': 4673, 'heartwarm': 4674, 'harrison': 4675, 'jade': 4676, 'hapless': 4677, 'vibrant': 4678, 'dim': 4679, 'artwork': 4680, 'dame': 4681, 'undermin': 4682, 'casino': 4683, 'anton': 4684, 'biblic': 4685, 'senior': 4686, 'ish': 4687, 'traffic': 4688, 'hug': 4689, 'hilar': 4690, 'timberlak': 4691, 'rot': 4692, 'prophet': 4693, 'pacif': 4694, 'banter': 4695, 'dylan': 4696, 'submit': 4697, 'cliffhang': 4698, 'carlo': 4699, 'bate': 4700, 'kathryn': 4701, 'luka': 4702, 'frontier': 4703, 'colin': 4704, 'clad': 4705, 'recit': 4706, 'earnest': 4707, 'helm': 4708, 'fragil': 4709, 'neill': 4710, 'mobster': 4711, 'proclaim': 4712, 'cycl': 4713, 'cb': 4714, 'cher': 4715, 'loretta': 4716, 'melissa': 4717, 'axe': 4718, 'miracul': 4719, 'pixar': 4720, 'europa': 4721, 'pickford': 4722, 'wendigo': 4723, 'parson': 4724, 'rooki': 4725, 'jo': 4726, 'foil': 4727, 'vanessa': 4728, 'orphan': 4729, 'eli': 4730, 'alexandr': 4731, 'aris': 4732, 'redneck': 4733, 'estrang': 4734, 'akin': 4735, 'http': 4736, 'articl': 4737, 'token': 4738, 'lui': 4739, 'wardrob': 4740, 'lucil': 4741, 'toronto': 4742, 'cerebr': 4743, 'vile': 4744, 'feast': 4745, 'misfortun': 4746, 'holocaust': 4747, 'shepherd': 4748, 'marlon': 4749, 'seedi': 4750, 'sicken': 4751, 'choke': 4752, 'jordan': 4753, 'breakfast': 4754, 'flavor': 4755, 'bikini': 4756, 'milo': 4757, 'northern': 4758, 'venom': 4759, 'pc': 4760, 'mason': 4761, 'electron': 4762, 'legitim': 4763, 'trier': 4764, 'isra': 4765, 'razor': 4766, 'nope': 4767, 'mathieu': 4768, 'bondag': 4769, 'blatantli': 4770, 'antholog': 4771, 'static': 4772, 'illus': 4773, 'uma': 4774, 'winchest': 4775, 'feminin': 4776, 'comprehend': 4777, 'knightley': 4778, 'charlton': 4779, 'oppon': 4780, 'leather': 4781, 'glare': 4782, 'retriev': 4783, 'gilbert': 4784, 'psych': 4785, 'shorter': 4786, 'dudley': 4787, 'ideolog': 4788, 'howl': 4789, 'turd': 4790, 'fifth': 4791, 'huston': 4792, 'smack': 4793, 'gunga': 4794, 'ceremoni': 4795, 'disregard': 4796, 'outdat': 4797, 'clinic': 4798, 'tack': 4799, 'highway': 4800, 'magician': 4801, 'linear': 4802, 'cartoonish': 4803, 'styliz': 4804, 'audrey': 4805, 'frog': 4806, 'swept': 4807, 'boyer': 4808, 'peer': 4809, 'nightclub': 4810, 'deem': 4811, 'wrestler': 4812, 'abund': 4813, 'affleck': 4814, 'lighter': 4815, 'compris': 4816, '1991': 4817, 'snatch': 4818, 'collector': 4819, '4th': 4820, 'corn': 4821, 'chip': 4822, 'boo': 4823, 'phenomen': 4824, 'greet': 4825, 'deliver': 4826, 'braveheart': 4827, 'lifeless': 4828, 'toe': 4829, 'breakdown': 4830, 'uniformli': 4831, 'plate': 4832, 'spawn': 4833, 'energet': 4834, 'salman': 4835, 'conrad': 4836, 'tara': 4837, 'cuban': 4838, 'senat': 4839, 'bastard': 4840, 'lavish': 4841, 'bogu': 4842, 'btw': 4843, 'cemeteri': 4844, 'potter': 4845, 'whack': 4846, 'durat': 4847, 'monument': 4848, 'newer': 4849, 'summar': 4850, 'evolut': 4851, 'sleaz': 4852, 'einstein': 4853, 'mitch': 4854, 'spine': 4855, '1994': 4856, 'goldsworthi': 4857, 'moe': 4858, 'client': 4859, 'fluid': 4860, 'sorrow': 4861, '1974': 4862, 'liu': 4863, 'undead': 4864, 'belli': 4865, 'occup': 4866, 'firmli': 4867, 'jule': 4868, 'appl': 4869, 'randolph': 4870, 'replay': 4871, 'ie': 4872, 'evelyn': 4873, 'bulk': 4874, 'kent': 4875, 'trauma': 4876, 'neatli': 4877, 'wtf': 4878, 'nina': 4879, 'luxuri': 4880, 'alleg': 4881, 'lex': 4882, 'eleven': 4883, 'healthi': 4884, 'capot': 4885, 'gilliam': 4886, 'judd': 4887, 'jare': 4888, 'bori': 4889, 'kazan': 4890, 'creek': 4891, 'ol': 4892, 'jam': 4893, 'armstrong': 4894, 'mcqueen': 4895, 'historian': 4896, 'jedi': 4897, 'clara': 4898, 'undertak': 4899, 'signal': 4900, '1977': 4901, 'outright': 4902, 'embark': 4903, 'constitut': 4904, 'inaccuraci': 4905, 'spectacl': 4906, 'pronounc': 4907, 'cecil': 4908, 'abound': 4909, 'sidewalk': 4910, 'goldblum': 4911, 'mum': 4912, 'tokyo': 4913, 'conan': 4914, 'subtli': 4915, 'galaxi': 4916, 'sacrif': 4917, 'fruit': 4918, 'cape': 4919, 'knee': 4920, 'congratul': 4921, 'decapit': 4922, 'comprehens': 4923, 'basket': 4924, 'kiddi': 4925, 'lauren': 4926, 'roar': 4927, 'miami': 4928, 'blur': 4929, 'miniseri': 4930, 'truman': 4931, 'meal': 4932, 'inclus': 4933, 'aussi': 4934, 'palm': 4935, 'groan': 4936, 'walt': 4937, 'pioneer': 4938, 'unattract': 4939, 'carmen': 4940, 'vignett': 4941, 'comb': 4942, 'curtain': 4943, 'inaccur': 4944, 'relentless': 4945, 'genet': 4946, 'bsg': 4947, 'paula': 4948, 'vain': 4949, 'spray': 4950, 'unsuspect': 4951, 'porter': 4952, '1985': 4953, 'forgiven': 4954, 'id': 4955, 'poker': 4956, 'ash': 4957, 'pepper': 4958, 'bait': 4959, 'propheci': 4960, 'rosario': 4961, 'antonio': 4962, 'lanc': 4963, 'ghetto': 4964, 'evan': 4965, 'masterson': 4966, 'optimist': 4967, 'substanti': 4968, 'turtl': 4969, 'drone': 4970, 'victorian': 4971, 'weari': 4972, 'playboy': 4973, 'epitom': 4974, 'motorcycl': 4975, 'vastli': 4976, 'frontal': 4977, 'reincarn': 4978, 'rapidli': 4979, 'asset': 4980, 'detach': 4981, 'jill': 4982, 'growth': 4983, 'weaker': 4984, 'cypher': 4985, 'assort': 4986, 'sparkl': 4987, 'monti': 4988, 'spill': 4989, 'hackman': 4990, 'incorrect': 4991, 'handicap': 4992, 'mice': 4993, '21st': 4994, 'modest': 4995, 'bach': 4996, 'scariest': 4997, 'hostil': 4998, 'bravo': 4999}\n"
     ]
    }
   ],
   "source": [
    "#Look at encoding\n",
    "print(word_dict)"
   ]
  },
  {
   "cell_type": "markdown",
   "metadata": {},
   "source": [
    "**Question:** What are the five most frequently appearing (tokenized) words in the training set? Does it makes sense that these words appear frequently in the training set?"
   ]
  },
  {
   "cell_type": "markdown",
   "metadata": {},
   "source": [
    "**Answer:** 'movi','film','one','like','time',"
   ]
  },
  {
   "cell_type": "code",
   "execution_count": 17,
   "metadata": {},
   "outputs": [],
   "source": [
    "# TODO: Use this space to determine the five most frequently appearing words in the training set.\n",
    "#ALREADY DID :)"
   ]
  },
  {
   "cell_type": "markdown",
   "metadata": {},
   "source": [
    "### Save `word_dict`\n",
    "\n",
    "Later on when we construct an endpoint which processes a submitted review we will need to make use of the `word_dict` which we have created. As such, we will save it to a file now for future use."
   ]
  },
  {
   "cell_type": "code",
   "execution_count": 18,
   "metadata": {},
   "outputs": [],
   "source": [
    "data_dir = '../data/pytorch' # The folder we will use for storing data\n",
    "if not os.path.exists(data_dir): # Make sure that the folder exists\n",
    "    os.makedirs(data_dir)"
   ]
  },
  {
   "cell_type": "code",
   "execution_count": 19,
   "metadata": {},
   "outputs": [],
   "source": [
    "with open(os.path.join(data_dir, 'word_dict.pkl'), \"wb\") as f:\n",
    "    pickle.dump(word_dict, f)"
   ]
  },
  {
   "cell_type": "markdown",
   "metadata": {},
   "source": [
    "### Transform the reviews\n",
    "\n",
    "Now that we have our word dictionary which allows us to transform the words appearing in the reviews into integers, it is time to make use of it and convert our reviews to their integer sequence representation, making sure to pad or truncate to a fixed length, which in our case is `500`."
   ]
  },
  {
   "cell_type": "code",
   "execution_count": 20,
   "metadata": {},
   "outputs": [],
   "source": [
    "def convert_and_pad(word_dict, sentence, pad=500):\n",
    "    NOWORD = 0 # We will use 0 to represent the 'no word' category\n",
    "    INFREQ = 1 # and we use 1 to represent the infrequent words, i.e., words not appearing in word_dict\n",
    "    \n",
    "    working_sentence = [NOWORD] * pad\n",
    "    \n",
    "    for word_index, word in enumerate(sentence[:pad]):\n",
    "        if word in word_dict:\n",
    "            working_sentence[word_index] = word_dict[word]\n",
    "        else:\n",
    "            working_sentence[word_index] = INFREQ\n",
    "            \n",
    "    return working_sentence, min(len(sentence), pad)\n",
    "\n",
    "def convert_and_pad_data(word_dict, data, pad=500):\n",
    "    result = []\n",
    "    lengths = []\n",
    "    \n",
    "    for sentence in data:\n",
    "        converted, leng = convert_and_pad(word_dict, sentence, pad)\n",
    "        result.append(converted)\n",
    "        lengths.append(leng)\n",
    "        \n",
    "    return np.array(result), np.array(lengths)"
   ]
  },
  {
   "cell_type": "code",
   "execution_count": 21,
   "metadata": {},
   "outputs": [],
   "source": [
    "train_X, train_X_len = convert_and_pad_data(word_dict, train_X)\n",
    "test_X, test_X_len = convert_and_pad_data(word_dict, test_X)"
   ]
  },
  {
   "cell_type": "markdown",
   "metadata": {},
   "source": [
    "As a quick check to make sure that things are working as intended, check to see what one of the reviews in the training set looks like after having been processeed. Does this look reasonable? What is the length of a review in the training set?"
   ]
  },
  {
   "cell_type": "code",
   "execution_count": 22,
   "metadata": {},
   "outputs": [
    {
     "data": {
      "text/plain": [
       "array([ 176,  879,  787,  826,  301,  930,    7, 2122,  112,   16,   21,\n",
       "        511,  204,  360,   48,   39,  841,  841,   10, 1701,  729, 2192,\n",
       "        217,    9,   39,   25,  729, 2192,    1, 1382,   91,    1, 1382,\n",
       "        439,  106,   21,  866,    1, 1382,   39,  114,    6,  326,    2,\n",
       "        151,  387,  204,  570,    1,  296,  276,  168,   20,  378,   32,\n",
       "        106,  299,  110,  496,  227,    1,   39,  131,   54,  147,  793,\n",
       "          1, 4779, 2883, 3382,  977,  482,   12,  557,   35,    1,    1,\n",
       "          1,    1,   14,  387,  134,   57,    2,  238,    2, 1173,  136,\n",
       "        229,  289,  816,    1,    9,   48,    2,  350,  176, 2251,    1,\n",
       "          1,   62, 1417,  808, 2368, 3185,  274, 2412,    1,  582,  176,\n",
       "         12,   22,  497,   27,  208,  152,  565,  830,  534,    1,   16,\n",
       "       4785,  180,  384, 1701,  935, 2777, 1557,    1,  992,    0,    0,\n",
       "          0,    0,    0,    0,    0,    0,    0,    0,    0,    0,    0,\n",
       "          0,    0,    0,    0,    0,    0,    0,    0,    0,    0,    0,\n",
       "          0,    0,    0,    0,    0,    0,    0,    0,    0,    0,    0,\n",
       "          0,    0,    0,    0,    0,    0,    0,    0,    0,    0,    0,\n",
       "          0,    0,    0,    0,    0,    0,    0,    0,    0,    0,    0,\n",
       "          0,    0,    0,    0,    0,    0,    0,    0,    0,    0,    0,\n",
       "          0,    0,    0,    0,    0,    0,    0,    0,    0,    0,    0,\n",
       "          0,    0,    0,    0,    0,    0,    0,    0,    0,    0,    0,\n",
       "          0,    0,    0,    0,    0,    0,    0,    0,    0,    0,    0,\n",
       "          0,    0,    0,    0,    0,    0,    0,    0,    0,    0,    0,\n",
       "          0,    0,    0,    0,    0,    0,    0,    0,    0,    0,    0,\n",
       "          0,    0,    0,    0,    0,    0,    0,    0,    0,    0,    0,\n",
       "          0,    0,    0,    0,    0,    0,    0,    0,    0,    0,    0,\n",
       "          0,    0,    0,    0,    0,    0,    0,    0,    0,    0,    0,\n",
       "          0,    0,    0,    0,    0,    0,    0,    0,    0,    0,    0,\n",
       "          0,    0,    0,    0,    0,    0,    0,    0,    0,    0,    0,\n",
       "          0,    0,    0,    0,    0,    0,    0,    0,    0,    0,    0,\n",
       "          0,    0,    0,    0,    0,    0,    0,    0,    0,    0,    0,\n",
       "          0,    0,    0,    0,    0,    0,    0,    0,    0,    0,    0,\n",
       "          0,    0,    0,    0,    0,    0,    0,    0,    0,    0,    0,\n",
       "          0,    0,    0,    0,    0,    0,    0,    0,    0,    0,    0,\n",
       "          0,    0,    0,    0,    0,    0,    0,    0,    0,    0,    0,\n",
       "          0,    0,    0,    0,    0,    0,    0,    0,    0,    0,    0,\n",
       "          0,    0,    0,    0,    0,    0,    0,    0,    0,    0,    0,\n",
       "          0,    0,    0,    0,    0,    0,    0,    0,    0,    0,    0,\n",
       "          0,    0,    0,    0,    0,    0,    0,    0,    0,    0,    0,\n",
       "          0,    0,    0,    0,    0,    0,    0,    0,    0,    0,    0,\n",
       "          0,    0,    0,    0,    0,    0,    0,    0,    0,    0,    0,\n",
       "          0,    0,    0,    0,    0,    0,    0,    0,    0,    0,    0,\n",
       "          0,    0,    0,    0,    0,    0,    0,    0,    0,    0,    0,\n",
       "          0,    0,    0,    0,    0,    0,    0,    0,    0,    0,    0,\n",
       "          0,    0,    0,    0,    0,    0,    0,    0,    0,    0,    0,\n",
       "          0,    0,    0,    0,    0,    0,    0,    0,    0,    0,    0,\n",
       "          0,    0,    0,    0,    0])"
      ]
     },
     "execution_count": 22,
     "metadata": {},
     "output_type": "execute_result"
    }
   ],
   "source": [
    "# Use this cell to examine one of the processed reviews to make sure everything is working as intended.\n",
    "train_X[100]"
   ]
  },
  {
   "cell_type": "markdown",
   "metadata": {},
   "source": [
    "**Question:** In the cells above we use the `preprocess_data` and `convert_and_pad_data` methods to process both the training and testing set. Why or why not might this be a problem?"
   ]
  },
  {
   "cell_type": "markdown",
   "metadata": {},
   "source": [
    "**Answer:** Maybe because the labels and the samples may get separated? Othwerwise, not sure.."
   ]
  },
  {
   "cell_type": "markdown",
   "metadata": {},
   "source": [
    "## Step 3: Upload the data to S3\n",
    "\n",
    "As in the XGBoost notebook, we will need to upload the training dataset to S3 in order for our training code to access it. For now we will save it locally and we will upload to S3 later on.\n",
    "\n",
    "### Save the processed training dataset locally\n",
    "\n",
    "It is important to note the format of the data that we are saving as we will need to know it when we write the training code. In our case, each row of the dataset has the form `label`, `length`, `review[500]` where `review[500]` is a sequence of `500` integers representing the words in the review."
   ]
  },
  {
   "cell_type": "code",
   "execution_count": 23,
   "metadata": {},
   "outputs": [],
   "source": [
    "import pandas as pd\n",
    "    \n",
    "pd.concat([pd.DataFrame(train_y), pd.DataFrame(train_X_len), pd.DataFrame(train_X)], axis=1) \\\n",
    "        .to_csv(os.path.join(data_dir, 'train.csv'), header=False, index=False)"
   ]
  },
  {
   "cell_type": "markdown",
   "metadata": {},
   "source": [
    "### Uploading the training data\n",
    "\n",
    "\n",
    "Next, we need to upload the training data to the SageMaker default S3 bucket so that we can provide access to it while training our model."
   ]
  },
  {
   "cell_type": "code",
   "execution_count": 24,
   "metadata": {},
   "outputs": [],
   "source": [
    "import sagemaker\n",
    "\n",
    "sagemaker_session = sagemaker.Session()\n",
    "\n",
    "bucket = sagemaker_session.default_bucket()\n",
    "prefix = 'sagemaker/sentiment_rnn'\n",
    "\n",
    "role = sagemaker.get_execution_role()"
   ]
  },
  {
   "cell_type": "code",
   "execution_count": 25,
   "metadata": {},
   "outputs": [],
   "source": [
    "input_data = sagemaker_session.upload_data(path=data_dir, bucket=bucket, key_prefix=prefix)"
   ]
  },
  {
   "cell_type": "markdown",
   "metadata": {},
   "source": [
    "**NOTE:** The cell above uploads the entire contents of our data directory. This includes the `word_dict.pkl` file. This is fortunate as we will need this later on when we create an endpoint that accepts an arbitrary review. For now, we will just take note of the fact that it resides in the data directory (and so also in the S3 training bucket) and that we will need to make sure it gets saved in the model directory."
   ]
  },
  {
   "cell_type": "markdown",
   "metadata": {},
   "source": [
    "## Step 4: Build and Train the PyTorch Model\n",
    "\n",
    "In the XGBoost notebook we discussed what a model is in the SageMaker framework. In particular, a model comprises three objects\n",
    "\n",
    " - Model Artifacts,\n",
    " - Training Code, and\n",
    " - Inference Code,\n",
    " \n",
    "each of which interact with one another. In the XGBoost example we used training and inference code that was provided by Amazon. Here we will still be using containers provided by Amazon with the added benefit of being able to include our own custom code.\n",
    "\n",
    "We will start by implementing our own neural network in PyTorch along with a training script. For the purposes of this project we have provided the necessary model object in the `model.py` file, inside of the `train` folder. You can see the provided implementation by running the cell below."
   ]
  },
  {
   "cell_type": "code",
   "execution_count": 26,
   "metadata": {},
   "outputs": [
    {
     "name": "stdout",
     "output_type": "stream",
     "text": [
      "\u001b[34mimport\u001b[39;49;00m \u001b[04m\u001b[36mtorch.nn\u001b[39;49;00m \u001b[34mas\u001b[39;49;00m \u001b[04m\u001b[36mnn\u001b[39;49;00m\r\n",
      "\r\n",
      "\u001b[34mclass\u001b[39;49;00m \u001b[04m\u001b[32mLSTMClassifier\u001b[39;49;00m(nn.Module):\r\n",
      "    \u001b[33m\"\"\"\u001b[39;49;00m\r\n",
      "\u001b[33m    This is the simple RNN model we will be using to perform Sentiment Analysis.\u001b[39;49;00m\r\n",
      "\u001b[33m    \"\"\"\u001b[39;49;00m\r\n",
      "\r\n",
      "    \u001b[34mdef\u001b[39;49;00m \u001b[32m__init__\u001b[39;49;00m(\u001b[36mself\u001b[39;49;00m, embedding_dim, hidden_dim, vocab_size):\r\n",
      "        \u001b[33m\"\"\"\u001b[39;49;00m\r\n",
      "\u001b[33m        Initialize the model by settingg up the various layers.\u001b[39;49;00m\r\n",
      "\u001b[33m        \"\"\"\u001b[39;49;00m\r\n",
      "        \u001b[36msuper\u001b[39;49;00m(LSTMClassifier, \u001b[36mself\u001b[39;49;00m).\u001b[32m__init__\u001b[39;49;00m()\r\n",
      "\r\n",
      "        \u001b[36mself\u001b[39;49;00m.embedding = nn.Embedding(vocab_size, embedding_dim, padding_idx=\u001b[34m0\u001b[39;49;00m)\r\n",
      "        \u001b[36mself\u001b[39;49;00m.lstm = nn.LSTM(embedding_dim, hidden_dim)\r\n",
      "        \u001b[36mself\u001b[39;49;00m.dense = nn.Linear(in_features=hidden_dim, out_features=\u001b[34m1\u001b[39;49;00m)\r\n",
      "        \u001b[36mself\u001b[39;49;00m.sig = nn.Sigmoid()\r\n",
      "        \r\n",
      "        \u001b[36mself\u001b[39;49;00m.word_dict = \u001b[36mNone\u001b[39;49;00m\r\n",
      "\r\n",
      "    \u001b[34mdef\u001b[39;49;00m \u001b[32mforward\u001b[39;49;00m(\u001b[36mself\u001b[39;49;00m, x):\r\n",
      "        \u001b[33m\"\"\"\u001b[39;49;00m\r\n",
      "\u001b[33m        Perform a forward pass of our model on some input.\u001b[39;49;00m\r\n",
      "\u001b[33m        \"\"\"\u001b[39;49;00m\r\n",
      "        x = x.t()\r\n",
      "        lengths = x[\u001b[34m0\u001b[39;49;00m,:]\r\n",
      "        reviews = x[\u001b[34m1\u001b[39;49;00m:,:]\r\n",
      "        embeds = \u001b[36mself\u001b[39;49;00m.embedding(reviews)\r\n",
      "        lstm_out, _ = \u001b[36mself\u001b[39;49;00m.lstm(embeds)\r\n",
      "        out = \u001b[36mself\u001b[39;49;00m.dense(lstm_out)\r\n",
      "        out = out[lengths - \u001b[34m1\u001b[39;49;00m, \u001b[36mrange\u001b[39;49;00m(\u001b[36mlen\u001b[39;49;00m(lengths))]\r\n",
      "        \u001b[34mreturn\u001b[39;49;00m \u001b[36mself\u001b[39;49;00m.sig(out.squeeze())\r\n"
     ]
    }
   ],
   "source": [
    "!pygmentize train/model.py"
   ]
  },
  {
   "cell_type": "markdown",
   "metadata": {},
   "source": [
    "The important takeaway from the implementation provided is that there are three parameters that we may wish to tweak to improve the performance of our model. These are the embedding dimension, the hidden dimension and the size of the vocabulary. We will likely want to make these parameters configurable in the training script so that if we wish to modify them we do not need to modify the script itself. We will see how to do this later on. To start we will write some of the training code in the notebook so that we can more easily diagnose any issues that arise.\n",
    "\n",
    "First we will load a small portion of the training data set to use as a sample. It would be very time consuming to try and train the model completely in the notebook as we do not have access to a gpu and the compute instance that we are using is not particularly powerful. However, we can work on a small bit of the data to get a feel for how our training script is behaving."
   ]
  },
  {
   "cell_type": "code",
   "execution_count": 27,
   "metadata": {},
   "outputs": [],
   "source": [
    "import torch\n",
    "import torch.utils.data\n",
    "\n",
    "# Read in only the first 250 rows\n",
    "train_sample = pd.read_csv(os.path.join(data_dir, 'train.csv'), header=None, names=None, nrows=250)\n",
    "\n",
    "# Turn the input pandas dataframe into tensors\n",
    "train_sample_y = torch.from_numpy(train_sample[[0]].values).float().squeeze()\n",
    "train_sample_X = torch.from_numpy(train_sample.drop([0], axis=1).values).long()\n",
    "\n",
    "# Build the dataset\n",
    "train_sample_ds = torch.utils.data.TensorDataset(train_sample_X, train_sample_y)\n",
    "# Build the dataloader\n",
    "train_sample_dl = torch.utils.data.DataLoader(train_sample_ds, batch_size=50)"
   ]
  },
  {
   "cell_type": "markdown",
   "metadata": {},
   "source": [
    "### (TODO) Writing the training method\n",
    "\n",
    "Next we need to write the training code itself. This should be very similar to training methods that you have written before to train PyTorch models. We will leave any difficult aspects such as model saving / loading and parameter loading until a little later."
   ]
  },
  {
   "cell_type": "code",
   "execution_count": 34,
   "metadata": {},
   "outputs": [],
   "source": [
    "def train(model, train_loader, epochs, optimizer, loss_fn, device):\n",
    "    for epoch in range(1, epochs + 1):\n",
    "        model.train()\n",
    "        total_loss = 0\n",
    "        for batch in train_loader:         \n",
    "            batch_X, batch_y = batch\n",
    "            \n",
    "            batch_X = batch_X.to(device)\n",
    "            batch_y = batch_y.to(device)\n",
    "            \n",
    "            # TODO: Complete this train method to train the model provided.\n",
    "            # NOTE: taking from pytorch documentation, not very familiar with pytorch\n",
    "            \n",
    "            #make prediction and calculate loss\n",
    "            y_pred = model(batch_X)\n",
    "            loss = loss_fn(y_pred, batch_y)\n",
    "            \n",
    "            #zero grads, go backward, update weights\n",
    "            optimizer.zero_grad()\n",
    "            loss.backward()\n",
    "            optimizer.step()\n",
    "            \n",
    "            \n",
    "            total_loss += loss.data.item()\n",
    "        print(\"Epoch: {}, BCELoss: {}\".format(epoch, total_loss / len(train_loader)))"
   ]
  },
  {
   "cell_type": "markdown",
   "metadata": {},
   "source": [
    "Supposing we have the training method above, we will test that it is working by writing a bit of code in the notebook that executes our training method on the small sample training set that we loaded earlier. The reason for doing this in the notebook is so that we have an opportunity to fix any errors that arise early when they are easier to diagnose."
   ]
  },
  {
   "cell_type": "code",
   "execution_count": 35,
   "metadata": {},
   "outputs": [
    {
     "name": "stdout",
     "output_type": "stream",
     "text": [
      "Epoch: 1, BCELoss: 0.6952887892723083\n",
      "Epoch: 2, BCELoss: 0.6861859440803528\n",
      "Epoch: 3, BCELoss: 0.6782904982566833\n",
      "Epoch: 4, BCELoss: 0.6695212602615357\n",
      "Epoch: 5, BCELoss: 0.6587410211563111\n"
     ]
    }
   ],
   "source": [
    "import torch.optim as optim\n",
    "from train.model import LSTMClassifier\n",
    "\n",
    "device = torch.device(\"cuda\" if torch.cuda.is_available() else \"cpu\")\n",
    "model = LSTMClassifier(32, 100, 5000).to(device)\n",
    "optimizer = optim.Adam(model.parameters())\n",
    "loss_fn = torch.nn.BCELoss()\n",
    "\n",
    "train(model, train_sample_dl, 5, optimizer, loss_fn, device)"
   ]
  },
  {
   "cell_type": "markdown",
   "metadata": {},
   "source": [
    "In order to construct a PyTorch model using SageMaker we must provide SageMaker with a training script. We may optionally include a directory which will be copied to the container and from which our training code will be run. When the training container is executed it will check the uploaded directory (if there is one) for a `requirements.txt` file and install any required Python libraries, after which the training script will be run."
   ]
  },
  {
   "cell_type": "markdown",
   "metadata": {},
   "source": [
    "### (TODO) Training the model\n",
    "\n",
    "When a PyTorch model is constructed in SageMaker, an entry point must be specified. This is the Python file which will be executed when the model is trained. Inside of the `train` directory is a file called `train.py` which has been provided and which contains most of the necessary code to train our model. The only thing that is missing is the implementation of the `train()` method which you wrote earlier in this notebook.\n",
    "\n",
    "**TODO**: Copy the `train()` method written above and paste it into the `train/train.py` file where required.\n",
    "\n",
    "The way that SageMaker passes hyperparameters to the training script is by way of arguments. These arguments can then be parsed and used in the training script. To see how this is done take a look at the provided `train/train.py` file."
   ]
  },
  {
   "cell_type": "code",
   "execution_count": 40,
   "metadata": {},
   "outputs": [],
   "source": [
    "from sagemaker.pytorch import PyTorch\n",
    "\n",
    "estimator = PyTorch(entry_point=\"train.py\",\n",
    "                    source_dir=\"train\",\n",
    "                    role=role,\n",
    "                    framework_version='0.4.0',\n",
    "                    train_instance_count=1,\n",
    "                    train_instance_type='ml.p2.xlarge',\n",
    "                    hyperparameters={\n",
    "                        'epochs': 10,\n",
    "                        'hidden_dim': 200,\n",
    "                    })"
   ]
  },
  {
   "cell_type": "code",
   "execution_count": 41,
   "metadata": {},
   "outputs": [
    {
     "ename": "ResourceLimitExceeded",
     "evalue": "An error occurred (ResourceLimitExceeded) when calling the CreateTrainingJob operation: The account-level service limit 'ml.p2.xlarge for training job usage' is 0 Instances, with current utilization of 0 Instances and a request delta of 1 Instances. Please contact AWS support to request an increase for this limit.",
     "output_type": "error",
     "traceback": [
      "\u001b[0;31m---------------------------------------------------------------------------\u001b[0m",
      "\u001b[0;31mResourceLimitExceeded\u001b[0m                     Traceback (most recent call last)",
      "\u001b[0;32m<ipython-input-41-0e8223086435>\u001b[0m in \u001b[0;36m<module>\u001b[0;34m()\u001b[0m\n\u001b[0;32m----> 1\u001b[0;31m \u001b[0mestimator\u001b[0m\u001b[0;34m.\u001b[0m\u001b[0mfit\u001b[0m\u001b[0;34m(\u001b[0m\u001b[0;34m{\u001b[0m\u001b[0;34m'training'\u001b[0m\u001b[0;34m:\u001b[0m \u001b[0minput_data\u001b[0m\u001b[0;34m}\u001b[0m\u001b[0;34m)\u001b[0m\u001b[0;34m\u001b[0m\u001b[0m\n\u001b[0m",
      "\u001b[0;32m~/anaconda3/envs/pytorch_p36/lib/python3.6/site-packages/sagemaker/estimator.py\u001b[0m in \u001b[0;36mfit\u001b[0;34m(self, inputs, wait, logs, job_name)\u001b[0m\n\u001b[1;32m    232\u001b[0m         \u001b[0mself\u001b[0m\u001b[0;34m.\u001b[0m\u001b[0m_prepare_for_training\u001b[0m\u001b[0;34m(\u001b[0m\u001b[0mjob_name\u001b[0m\u001b[0;34m=\u001b[0m\u001b[0mjob_name\u001b[0m\u001b[0;34m)\u001b[0m\u001b[0;34m\u001b[0m\u001b[0m\n\u001b[1;32m    233\u001b[0m \u001b[0;34m\u001b[0m\u001b[0m\n\u001b[0;32m--> 234\u001b[0;31m         \u001b[0mself\u001b[0m\u001b[0;34m.\u001b[0m\u001b[0mlatest_training_job\u001b[0m \u001b[0;34m=\u001b[0m \u001b[0m_TrainingJob\u001b[0m\u001b[0;34m.\u001b[0m\u001b[0mstart_new\u001b[0m\u001b[0;34m(\u001b[0m\u001b[0mself\u001b[0m\u001b[0;34m,\u001b[0m \u001b[0minputs\u001b[0m\u001b[0;34m)\u001b[0m\u001b[0;34m\u001b[0m\u001b[0m\n\u001b[0m\u001b[1;32m    235\u001b[0m         \u001b[0;32mif\u001b[0m \u001b[0mwait\u001b[0m\u001b[0;34m:\u001b[0m\u001b[0;34m\u001b[0m\u001b[0m\n\u001b[1;32m    236\u001b[0m             \u001b[0mself\u001b[0m\u001b[0;34m.\u001b[0m\u001b[0mlatest_training_job\u001b[0m\u001b[0;34m.\u001b[0m\u001b[0mwait\u001b[0m\u001b[0;34m(\u001b[0m\u001b[0mlogs\u001b[0m\u001b[0;34m=\u001b[0m\u001b[0mlogs\u001b[0m\u001b[0;34m)\u001b[0m\u001b[0;34m\u001b[0m\u001b[0m\n",
      "\u001b[0;32m~/anaconda3/envs/pytorch_p36/lib/python3.6/site-packages/sagemaker/estimator.py\u001b[0m in \u001b[0;36mstart_new\u001b[0;34m(cls, estimator, inputs)\u001b[0m\n\u001b[1;32m    593\u001b[0m             \u001b[0mtrain_args\u001b[0m\u001b[0;34m[\u001b[0m\u001b[0;34m'image'\u001b[0m\u001b[0;34m]\u001b[0m \u001b[0;34m=\u001b[0m \u001b[0mestimator\u001b[0m\u001b[0;34m.\u001b[0m\u001b[0mtrain_image\u001b[0m\u001b[0;34m(\u001b[0m\u001b[0;34m)\u001b[0m\u001b[0;34m\u001b[0m\u001b[0m\n\u001b[1;32m    594\u001b[0m \u001b[0;34m\u001b[0m\u001b[0m\n\u001b[0;32m--> 595\u001b[0;31m         \u001b[0mestimator\u001b[0m\u001b[0;34m.\u001b[0m\u001b[0msagemaker_session\u001b[0m\u001b[0;34m.\u001b[0m\u001b[0mtrain\u001b[0m\u001b[0;34m(\u001b[0m\u001b[0;34m**\u001b[0m\u001b[0mtrain_args\u001b[0m\u001b[0;34m)\u001b[0m\u001b[0;34m\u001b[0m\u001b[0m\n\u001b[0m\u001b[1;32m    596\u001b[0m \u001b[0;34m\u001b[0m\u001b[0m\n\u001b[1;32m    597\u001b[0m         \u001b[0;32mreturn\u001b[0m \u001b[0mcls\u001b[0m\u001b[0;34m(\u001b[0m\u001b[0mestimator\u001b[0m\u001b[0;34m.\u001b[0m\u001b[0msagemaker_session\u001b[0m\u001b[0;34m,\u001b[0m \u001b[0mestimator\u001b[0m\u001b[0;34m.\u001b[0m\u001b[0m_current_job_name\u001b[0m\u001b[0;34m)\u001b[0m\u001b[0;34m\u001b[0m\u001b[0m\n",
      "\u001b[0;32m~/anaconda3/envs/pytorch_p36/lib/python3.6/site-packages/sagemaker/session.py\u001b[0m in \u001b[0;36mtrain\u001b[0;34m(self, input_mode, input_config, role, job_name, output_config, resource_config, vpc_config, hyperparameters, stop_condition, tags, metric_definitions, enable_network_isolation, image, algorithm_arn, encrypt_inter_container_traffic)\u001b[0m\n\u001b[1;32m    319\u001b[0m         \u001b[0mLOGGER\u001b[0m\u001b[0;34m.\u001b[0m\u001b[0minfo\u001b[0m\u001b[0;34m(\u001b[0m\u001b[0;34m'Creating training-job with name: {}'\u001b[0m\u001b[0;34m.\u001b[0m\u001b[0mformat\u001b[0m\u001b[0;34m(\u001b[0m\u001b[0mjob_name\u001b[0m\u001b[0;34m)\u001b[0m\u001b[0;34m)\u001b[0m\u001b[0;34m\u001b[0m\u001b[0m\n\u001b[1;32m    320\u001b[0m         \u001b[0mLOGGER\u001b[0m\u001b[0;34m.\u001b[0m\u001b[0mdebug\u001b[0m\u001b[0;34m(\u001b[0m\u001b[0;34m'train request: {}'\u001b[0m\u001b[0;34m.\u001b[0m\u001b[0mformat\u001b[0m\u001b[0;34m(\u001b[0m\u001b[0mjson\u001b[0m\u001b[0;34m.\u001b[0m\u001b[0mdumps\u001b[0m\u001b[0;34m(\u001b[0m\u001b[0mtrain_request\u001b[0m\u001b[0;34m,\u001b[0m \u001b[0mindent\u001b[0m\u001b[0;34m=\u001b[0m\u001b[0;36m4\u001b[0m\u001b[0;34m)\u001b[0m\u001b[0;34m)\u001b[0m\u001b[0;34m)\u001b[0m\u001b[0;34m\u001b[0m\u001b[0m\n\u001b[0;32m--> 321\u001b[0;31m         \u001b[0mself\u001b[0m\u001b[0;34m.\u001b[0m\u001b[0msagemaker_client\u001b[0m\u001b[0;34m.\u001b[0m\u001b[0mcreate_training_job\u001b[0m\u001b[0;34m(\u001b[0m\u001b[0;34m**\u001b[0m\u001b[0mtrain_request\u001b[0m\u001b[0;34m)\u001b[0m\u001b[0;34m\u001b[0m\u001b[0m\n\u001b[0m\u001b[1;32m    322\u001b[0m \u001b[0;34m\u001b[0m\u001b[0m\n\u001b[1;32m    323\u001b[0m     def compile_model(self, input_model_config, output_model_config, role,\n",
      "\u001b[0;32m~/anaconda3/envs/pytorch_p36/lib/python3.6/site-packages/botocore/client.py\u001b[0m in \u001b[0;36m_api_call\u001b[0;34m(self, *args, **kwargs)\u001b[0m\n\u001b[1;32m    355\u001b[0m                     \"%s() only accepts keyword arguments.\" % py_operation_name)\n\u001b[1;32m    356\u001b[0m             \u001b[0;31m# The \"self\" in this scope is referring to the BaseClient.\u001b[0m\u001b[0;34m\u001b[0m\u001b[0;34m\u001b[0m\u001b[0m\n\u001b[0;32m--> 357\u001b[0;31m             \u001b[0;32mreturn\u001b[0m \u001b[0mself\u001b[0m\u001b[0;34m.\u001b[0m\u001b[0m_make_api_call\u001b[0m\u001b[0;34m(\u001b[0m\u001b[0moperation_name\u001b[0m\u001b[0;34m,\u001b[0m \u001b[0mkwargs\u001b[0m\u001b[0;34m)\u001b[0m\u001b[0;34m\u001b[0m\u001b[0m\n\u001b[0m\u001b[1;32m    358\u001b[0m \u001b[0;34m\u001b[0m\u001b[0m\n\u001b[1;32m    359\u001b[0m         \u001b[0m_api_call\u001b[0m\u001b[0;34m.\u001b[0m\u001b[0m__name__\u001b[0m \u001b[0;34m=\u001b[0m \u001b[0mstr\u001b[0m\u001b[0;34m(\u001b[0m\u001b[0mpy_operation_name\u001b[0m\u001b[0;34m)\u001b[0m\u001b[0;34m\u001b[0m\u001b[0m\n",
      "\u001b[0;32m~/anaconda3/envs/pytorch_p36/lib/python3.6/site-packages/botocore/client.py\u001b[0m in \u001b[0;36m_make_api_call\u001b[0;34m(self, operation_name, api_params)\u001b[0m\n\u001b[1;32m    659\u001b[0m             \u001b[0merror_code\u001b[0m \u001b[0;34m=\u001b[0m \u001b[0mparsed_response\u001b[0m\u001b[0;34m.\u001b[0m\u001b[0mget\u001b[0m\u001b[0;34m(\u001b[0m\u001b[0;34m\"Error\"\u001b[0m\u001b[0;34m,\u001b[0m \u001b[0;34m{\u001b[0m\u001b[0;34m}\u001b[0m\u001b[0;34m)\u001b[0m\u001b[0;34m.\u001b[0m\u001b[0mget\u001b[0m\u001b[0;34m(\u001b[0m\u001b[0;34m\"Code\"\u001b[0m\u001b[0;34m)\u001b[0m\u001b[0;34m\u001b[0m\u001b[0m\n\u001b[1;32m    660\u001b[0m             \u001b[0merror_class\u001b[0m \u001b[0;34m=\u001b[0m \u001b[0mself\u001b[0m\u001b[0;34m.\u001b[0m\u001b[0mexceptions\u001b[0m\u001b[0;34m.\u001b[0m\u001b[0mfrom_code\u001b[0m\u001b[0;34m(\u001b[0m\u001b[0merror_code\u001b[0m\u001b[0;34m)\u001b[0m\u001b[0;34m\u001b[0m\u001b[0m\n\u001b[0;32m--> 661\u001b[0;31m             \u001b[0;32mraise\u001b[0m \u001b[0merror_class\u001b[0m\u001b[0;34m(\u001b[0m\u001b[0mparsed_response\u001b[0m\u001b[0;34m,\u001b[0m \u001b[0moperation_name\u001b[0m\u001b[0;34m)\u001b[0m\u001b[0;34m\u001b[0m\u001b[0m\n\u001b[0m\u001b[1;32m    662\u001b[0m         \u001b[0;32melse\u001b[0m\u001b[0;34m:\u001b[0m\u001b[0;34m\u001b[0m\u001b[0m\n\u001b[1;32m    663\u001b[0m             \u001b[0;32mreturn\u001b[0m \u001b[0mparsed_response\u001b[0m\u001b[0;34m\u001b[0m\u001b[0m\n",
      "\u001b[0;31mResourceLimitExceeded\u001b[0m: An error occurred (ResourceLimitExceeded) when calling the CreateTrainingJob operation: The account-level service limit 'ml.p2.xlarge for training job usage' is 0 Instances, with current utilization of 0 Instances and a request delta of 1 Instances. Please contact AWS support to request an increase for this limit."
     ]
    }
   ],
   "source": [
    "estimator.fit({'training': input_data})"
   ]
  },
  {
   "cell_type": "markdown",
   "metadata": {},
   "source": [
    "## Step 5: Testing the model\n",
    "\n",
    "As mentioned at the top of this notebook, we will be testing this model by first deploying it and then sending the testing data to the deployed endpoint. We will do this so that we can make sure that the deployed model is working correctly.\n",
    "\n",
    "## Step 6: Deploy the model for testing\n",
    "\n",
    "Now that we have trained our model, we would like to test it to see how it performs. Currently our model takes input of the form `review_length, review[500]` where `review[500]` is a sequence of `500` integers which describe the words present in the review, encoded using `word_dict`. Fortunately for us, SageMaker provides built-in inference code for models with simple inputs such as this.\n",
    "\n",
    "There is one thing that we need to provide, however, and that is a function which loads the saved model. This function must be called `model_fn()` and takes as its only parameter a path to the directory where the model artifacts are stored. This function must also be present in the python file which we specified as the entry point. In our case the model loading function has been provided and so no changes need to be made.\n",
    "\n",
    "**NOTE**: When the built-in inference code is run it must import the `model_fn()` method from the `train.py` file. This is why the training code is wrapped in a main guard ( ie, `if __name__ == '__main__':` )\n",
    "\n",
    "Since we don't need to change anything in the code that was uploaded during training, we can simply deploy the current model as-is.\n",
    "\n",
    "**NOTE:** When deploying a model you are asking SageMaker to launch an compute instance that will wait for data to be sent to it. As a result, this compute instance will continue to run until *you* shut it down. This is important to know since the cost of a deployed endpoint depends on how long it has been running for.\n",
    "\n",
    "In other words **If you are no longer using a deployed endpoint, shut it down!**\n",
    "\n",
    "**TODO:** Deploy the trained model."
   ]
  },
  {
   "cell_type": "code",
   "execution_count": null,
   "metadata": {},
   "outputs": [],
   "source": [
    "# TODO: Deploy the trained model"
   ]
  },
  {
   "cell_type": "markdown",
   "metadata": {},
   "source": [
    "## Step 7 - Use the model for testing\n",
    "\n",
    "Once deployed, we can read in the test data and send it off to our deployed model to get some results. Once we collect all of the results we can determine how accurate our model is."
   ]
  },
  {
   "cell_type": "code",
   "execution_count": null,
   "metadata": {},
   "outputs": [],
   "source": [
    "test_X = pd.concat([pd.DataFrame(test_X_len), pd.DataFrame(test_X)], axis=1)"
   ]
  },
  {
   "cell_type": "code",
   "execution_count": null,
   "metadata": {},
   "outputs": [],
   "source": [
    "# We split the data into chunks and send each chunk seperately, accumulating the results.\n",
    "\n",
    "def predict(data, rows=512):\n",
    "    split_array = np.array_split(data, int(data.shape[0] / float(rows) + 1))\n",
    "    predictions = np.array([])\n",
    "    for array in split_array:\n",
    "        predictions = np.append(predictions, predictor.predict(array))\n",
    "    \n",
    "    return predictions"
   ]
  },
  {
   "cell_type": "code",
   "execution_count": null,
   "metadata": {},
   "outputs": [],
   "source": [
    "predictions = predict(test_X.values)\n",
    "predictions = [round(num) for num in predictions]"
   ]
  },
  {
   "cell_type": "code",
   "execution_count": null,
   "metadata": {},
   "outputs": [],
   "source": [
    "from sklearn.metrics import accuracy_score\n",
    "accuracy_score(test_y, predictions)"
   ]
  },
  {
   "cell_type": "markdown",
   "metadata": {},
   "source": [
    "**Question:** How does this model compare to the XGBoost model you created earlier? Why might these two models perform differently on this dataset? Which do *you* think is better for sentiment analysis?"
   ]
  },
  {
   "cell_type": "markdown",
   "metadata": {},
   "source": [
    "**Answer:**"
   ]
  },
  {
   "cell_type": "markdown",
   "metadata": {},
   "source": [
    "### (TODO) More testing\n",
    "\n",
    "We now have a trained model which has been deployed and which we can send processed reviews to and which returns the predicted sentiment. However, ultimately we would like to be able to send our model an unprocessed review. That is, we would like to send the review itself as a string. For example, suppose we wish to send the following review to our model."
   ]
  },
  {
   "cell_type": "code",
   "execution_count": null,
   "metadata": {},
   "outputs": [],
   "source": [
    "test_review = 'The simplest pleasures in life are the best, and this film is one of them. Combining a rather basic storyline of love and adventure this movie transcends the usual weekend fair with wit and unmitigated charm.'"
   ]
  },
  {
   "cell_type": "markdown",
   "metadata": {},
   "source": [
    "The question we now need to answer is, how do we send this review to our model?\n",
    "\n",
    "Recall in the first section of this notebook we did a bunch of data processing to the IMDb dataset. In particular, we did two specific things to the provided reviews.\n",
    " - Removed any html tags and stemmed the input\n",
    " - Encoded the review as a sequence of integers using `word_dict`\n",
    " \n",
    "In order process the review we will need to repeat these two steps.\n",
    "\n",
    "**TODO**: Using the `review_to_words` and `convert_and_pad` methods from section one, convert `test_review` into a numpy array `test_data` suitable to send to our model. Remember that our model expects input of the form `review_length, review[500]`."
   ]
  },
  {
   "cell_type": "code",
   "execution_count": null,
   "metadata": {},
   "outputs": [],
   "source": [
    "# TODO: Convert test_review into a form usable by the model and save the results in test_data\n",
    "test_data = None"
   ]
  },
  {
   "cell_type": "markdown",
   "metadata": {},
   "source": [
    "Now that we have processed the review, we can send the resulting array to our model to predict the sentiment of the review."
   ]
  },
  {
   "cell_type": "code",
   "execution_count": null,
   "metadata": {},
   "outputs": [],
   "source": [
    "predictor.predict(test_data)"
   ]
  },
  {
   "cell_type": "markdown",
   "metadata": {},
   "source": [
    "Since the return value of our model is close to `1`, we can be certain that the review we submitted is positive."
   ]
  },
  {
   "cell_type": "markdown",
   "metadata": {},
   "source": [
    "### Delete the endpoint\n",
    "\n",
    "Of course, just like in the XGBoost notebook, once we've deployed an endpoint it continues to run until we tell it to shut down. Since we are done using our endpoint for now, we can delete it."
   ]
  },
  {
   "cell_type": "code",
   "execution_count": null,
   "metadata": {},
   "outputs": [],
   "source": [
    "estimator.delete_endpoint()"
   ]
  },
  {
   "cell_type": "markdown",
   "metadata": {},
   "source": [
    "## Step 6 (again) - Deploy the model for the web app\n",
    "\n",
    "Now that we know that our model is working, it's time to create some custom inference code so that we can send the model a review which has not been processed and have it determine the sentiment of the review.\n",
    "\n",
    "As we saw above, by default the estimator which we created, when deployed, will use the entry script and directory which we provided when creating the model. However, since we now wish to accept a string as input and our model expects a processed review, we need to write some custom inference code.\n",
    "\n",
    "We will store the code that we write in the `serve` directory. Provided in this directory is the `model.py` file that we used to construct our model, a `utils.py` file which contains the `review_to_words` and `convert_and_pad` pre-processing functions which we used during the initial data processing, and `predict.py`, the file which will contain our custom inference code. Note also that `requirements.txt` is present which will tell SageMaker what Python libraries are required by our custom inference code.\n",
    "\n",
    "When deploying a PyTorch model in SageMaker, you are expected to provide four functions which the SageMaker inference container will use.\n",
    " - `model_fn`: This function is the same function that we used in the training script and it tells SageMaker how to load our model.\n",
    " - `input_fn`: This function receives the raw serialized input that has been sent to the model's endpoint and its job is to de-serialize and make the input available for the inference code.\n",
    " - `output_fn`: This function takes the output of the inference code and its job is to serialize this output and return it to the caller of the model's endpoint.\n",
    " - `predict_fn`: The heart of the inference script, this is where the actual prediction is done and is the function which you will need to complete.\n",
    "\n",
    "For the simple website that we are constructing during this project, the `input_fn` and `output_fn` methods are relatively straightforward. We only require being able to accept a string as input and we expect to return a single value as output. You might imagine though that in a more complex application the input or output may be image data or some other binary data which would require some effort to serialize.\n",
    "\n",
    "### (TODO) Writing inference code\n",
    "\n",
    "Before writing our custom inference code, we will begin by taking a look at the code which has been provided."
   ]
  },
  {
   "cell_type": "code",
   "execution_count": null,
   "metadata": {},
   "outputs": [],
   "source": [
    "!pygmentize serve/predict.py"
   ]
  },
  {
   "cell_type": "markdown",
   "metadata": {},
   "source": [
    "As mentioned earlier, the `model_fn` method is the same as the one provided in the training code and the `input_fn` and `output_fn` methods are very simple and your task will be to complete the `predict_fn` method. Make sure that you save the completed file as `predict.py` in the `serve` directory.\n",
    "\n",
    "**TODO**: Complete the `predict_fn()` method in the `serve/predict.py` file."
   ]
  },
  {
   "cell_type": "markdown",
   "metadata": {},
   "source": [
    "### Deploying the model\n",
    "\n",
    "Now that the custom inference code has been written, we will create and deploy our model. To begin with, we need to construct a new PyTorchModel object which points to the model artifacts created during training and also points to the inference code that we wish to use. Then we can call the deploy method to launch the deployment container.\n",
    "\n",
    "**NOTE**: The default behaviour for a deployed PyTorch model is to assume that any input passed to the predictor is a `numpy` array. In our case we want to send a string so we need to construct a simple wrapper around the `RealTimePredictor` class to accomodate simple strings. In a more complicated situation you may want to provide a serialization object, for example if you wanted to sent image data."
   ]
  },
  {
   "cell_type": "code",
   "execution_count": null,
   "metadata": {},
   "outputs": [],
   "source": [
    "from sagemaker.predictor import RealTimePredictor\n",
    "from sagemaker.pytorch import PyTorchModel\n",
    "\n",
    "class StringPredictor(RealTimePredictor):\n",
    "    def __init__(self, endpoint_name, sagemaker_session):\n",
    "        super(StringPredictor, self).__init__(endpoint_name, sagemaker_session, content_type='text/plain')\n",
    "\n",
    "model = PyTorchModel(model_data=estimator.model_data,\n",
    "                     role = role,\n",
    "                     framework_version='0.4.0',\n",
    "                     entry_point='predict.py',\n",
    "                     source_dir='serve',\n",
    "                     predictor_cls=StringPredictor)\n",
    "predictor = model.deploy(initial_instance_count=1, instance_type='ml.m4.xlarge')"
   ]
  },
  {
   "cell_type": "markdown",
   "metadata": {},
   "source": [
    "### Testing the model\n",
    "\n",
    "Now that we have deployed our model with the custom inference code, we should test to see if everything is working. Here we test our model by loading the first `250` positive and negative reviews and send them to the endpoint, then collect the results. The reason for only sending some of the data is that the amount of time it takes for our model to process the input and then perform inference is quite long and so testing the entire data set would be prohibitive."
   ]
  },
  {
   "cell_type": "code",
   "execution_count": null,
   "metadata": {},
   "outputs": [],
   "source": [
    "import glob\n",
    "\n",
    "def test_reviews(data_dir='../data/aclImdb', stop=250):\n",
    "    \n",
    "    results = []\n",
    "    ground = []\n",
    "    \n",
    "    # We make sure to test both positive and negative reviews    \n",
    "    for sentiment in ['pos', 'neg']:\n",
    "        \n",
    "        path = os.path.join(data_dir, 'test', sentiment, '*.txt')\n",
    "        files = glob.glob(path)\n",
    "        \n",
    "        files_read = 0\n",
    "        \n",
    "        print('Starting ', sentiment, ' files')\n",
    "        \n",
    "        # Iterate through the files and send them to the predictor\n",
    "        for f in files:\n",
    "            with open(f) as review:\n",
    "                # First, we store the ground truth (was the review positive or negative)\n",
    "                if sentiment == 'pos':\n",
    "                    ground.append(1)\n",
    "                else:\n",
    "                    ground.append(0)\n",
    "                # Read in the review and convert to 'utf-8' for transmission via HTTP\n",
    "                review_input = review.read().encode('utf-8')\n",
    "                # Send the review to the predictor and store the results\n",
    "                results.append(int(predictor.predict(review_input)))\n",
    "                \n",
    "            # Sending reviews to our endpoint one at a time takes a while so we\n",
    "            # only send a small number of reviews\n",
    "            files_read += 1\n",
    "            if files_read == stop:\n",
    "                break\n",
    "            \n",
    "    return ground, results"
   ]
  },
  {
   "cell_type": "code",
   "execution_count": null,
   "metadata": {},
   "outputs": [],
   "source": [
    "ground, results = test_reviews()"
   ]
  },
  {
   "cell_type": "code",
   "execution_count": null,
   "metadata": {},
   "outputs": [],
   "source": [
    "from sklearn.metrics import accuracy_score\n",
    "accuracy_score(ground, results)"
   ]
  },
  {
   "cell_type": "markdown",
   "metadata": {},
   "source": [
    "As an additional test, we can try sending the `test_review` that we looked at earlier."
   ]
  },
  {
   "cell_type": "code",
   "execution_count": null,
   "metadata": {},
   "outputs": [],
   "source": [
    "predictor.predict(test_review)"
   ]
  },
  {
   "cell_type": "markdown",
   "metadata": {},
   "source": [
    "Now that we know our endpoint is working as expected, we can set up the web page that will interact with it. If you don't have time to finish the project now, make sure to skip down to the end of this notebook and shut down your endpoint. You can deploy it again when you come back."
   ]
  },
  {
   "cell_type": "markdown",
   "metadata": {},
   "source": [
    "## Step 7 (again): Use the model for the web app\n",
    "\n",
    "> **TODO:** This entire section and the next contain tasks for you to complete, mostly using the AWS console.\n",
    "\n",
    "So far we have been accessing our model endpoint by constructing a predictor object which uses the endpoint and then just using the predictor object to perform inference. What if we wanted to create a web app which accessed our model? The way things are set up currently makes that not possible since in order to access a SageMaker endpoint the app would first have to authenticate with AWS using an IAM role which included access to SageMaker endpoints. However, there is an easier way! We just need to use some additional AWS services.\n",
    "\n",
    "<img src=\"Web App Diagram.svg\">\n",
    "\n",
    "The diagram above gives an overview of how the various services will work together. On the far right is the model which we trained above and which is deployed using SageMaker. On the far left is our web app that collects a user's movie review, sends it off and expects a positive or negative sentiment in return.\n",
    "\n",
    "In the middle is where some of the magic happens. We will construct a Lambda function, which you can think of as a straightforward Python function that can be executed whenever a specified event occurs. We will give this function permission to send and recieve data from a SageMaker endpoint.\n",
    "\n",
    "Lastly, the method we will use to execute the Lambda function is a new endpoint that we will create using API Gateway. This endpoint will be a url that listens for data to be sent to it. Once it gets some data it will pass that data on to the Lambda function and then return whatever the Lambda function returns. Essentially it will act as an interface that lets our web app communicate with the Lambda function.\n",
    "\n",
    "### Setting up a Lambda function\n",
    "\n",
    "The first thing we are going to do is set up a Lambda function. This Lambda function will be executed whenever our public API has data sent to it. When it is executed it will receive the data, perform any sort of processing that is required, send the data (the review) to the SageMaker endpoint we've created and then return the result.\n",
    "\n",
    "#### Part A: Create an IAM Role for the Lambda function\n",
    "\n",
    "Since we want the Lambda function to call a SageMaker endpoint, we need to make sure that it has permission to do so. To do this, we will construct a role that we can later give the Lambda function.\n",
    "\n",
    "Using the AWS Console, navigate to the **IAM** page and click on **Roles**. Then, click on **Create role**. Make sure that the **AWS service** is the type of trusted entity selected and choose **Lambda** as the service that will use this role, then click **Next: Permissions**.\n",
    "\n",
    "In the search box type `sagemaker` and select the check box next to the **AmazonSageMakerFullAccess** policy. Then, click on **Next: Review**.\n",
    "\n",
    "Lastly, give this role a name. Make sure you use a name that you will remember later on, for example `LambdaSageMakerRole`. Then, click on **Create role**.\n",
    "\n",
    "#### Part B: Create a Lambda function\n",
    "\n",
    "Now it is time to actually create the Lambda function.\n",
    "\n",
    "Using the AWS Console, navigate to the AWS Lambda page and click on **Create a function**. When you get to the next page, make sure that **Author from scratch** is selected. Now, name your Lambda function, using a name that you will remember later on, for example `sentiment_analysis_func`. Make sure that the **Python 3.6** runtime is selected and then choose the role that you created in the previous part. Then, click on **Create Function**.\n",
    "\n",
    "On the next page you will see some information about the Lambda function you've just created. If you scroll down you should see an editor in which you can write the code that will be executed when your Lambda function is triggered. In our example, we will use the code below. \n",
    "\n",
    "```python\n",
    "# We need to use the low-level library to interact with SageMaker since the SageMaker API\n",
    "# is not available natively through Lambda.\n",
    "import boto3\n",
    "\n",
    "def lambda_handler(event, context):\n",
    "\n",
    "    # The SageMaker runtime is what allows us to invoke the endpoint that we've created.\n",
    "    runtime = boto3.Session().client('sagemaker-runtime')\n",
    "\n",
    "    # Now we use the SageMaker runtime to invoke our endpoint, sending the review we were given\n",
    "    response = runtime.invoke_endpoint(EndpointName = '**ENDPOINT NAME HERE**',    # The name of the endpoint we created\n",
    "                                       ContentType = 'text/plain',                 # The data format that is expected\n",
    "                                       Body = event['body'])                       # The actual review\n",
    "\n",
    "    # The response is an HTTP response whose body contains the result of our inference\n",
    "    result = response['Body'].read().decode('utf-8')\n",
    "\n",
    "    return {\n",
    "        'statusCode' : 200,\n",
    "        'headers' : { 'Content-Type' : 'text/plain', 'Access-Control-Allow-Origin' : '*' },\n",
    "        'body' : result\n",
    "    }\n",
    "```\n",
    "\n",
    "Once you have copy and pasted the code above into the Lambda code editor, replace the `**ENDPOINT NAME HERE**` portion with the name of the endpoint that we deployed earlier. You can determine the name of the endpoint using the code cell below."
   ]
  },
  {
   "cell_type": "code",
   "execution_count": null,
   "metadata": {},
   "outputs": [],
   "source": [
    "predictor.endpoint"
   ]
  },
  {
   "cell_type": "markdown",
   "metadata": {},
   "source": [
    "Once you have added the endpoint name to the Lambda function, click on **Save**. Your Lambda function is now up and running. Next we need to create a way for our web app to execute the Lambda function.\n",
    "\n",
    "### Setting up API Gateway\n",
    "\n",
    "Now that our Lambda function is set up, it is time to create a new API using API Gateway that will trigger the Lambda function we have just created.\n",
    "\n",
    "Using AWS Console, navigate to **Amazon API Gateway** and then click on **Get started**.\n",
    "\n",
    "On the next page, make sure that **New API** is selected and give the new api a name, for example, `sentiment_analysis_api`. Then, click on **Create API**.\n",
    "\n",
    "Now we have created an API, however it doesn't currently do anything. What we want it to do is to trigger the Lambda function that we created earlier.\n",
    "\n",
    "Select the **Actions** dropdown menu and click **Create Method**. A new blank method will be created, select its dropdown menu and select **POST**, then click on the check mark beside it.\n",
    "\n",
    "For the integration point, make sure that **Lambda Function** is selected and click on the **Use Lambda Proxy integration**. This option makes sure that the data that is sent to the API is then sent directly to the Lambda function with no processing. It also means that the return value must be a proper response object as it will also not be processed by API Gateway.\n",
    "\n",
    "Type the name of the Lambda function you created earlier into the **Lambda Function** text entry box and then click on **Save**. Click on **OK** in the pop-up box that then appears, giving permission to API Gateway to invoke the Lambda function you created.\n",
    "\n",
    "The last step in creating the API Gateway is to select the **Actions** dropdown and click on **Deploy API**. You will need to create a new Deployment stage and name it anything you like, for example `prod`.\n",
    "\n",
    "You have now successfully set up a public API to access your SageMaker model. Make sure to copy or write down the URL provided to invoke your newly created public API as this will be needed in the next step. This URL can be found at the top of the page, highlighted in blue next to the text **Invoke URL**."
   ]
  },
  {
   "cell_type": "markdown",
   "metadata": {},
   "source": [
    "## Step 4: Deploying our web app\n",
    "\n",
    "Now that we have a publicly available API, we can start using it in a web app. For our purposes, we have provided a simple static html file which can make use of the public api you created earlier.\n",
    "\n",
    "In the `website` folder there should be a file called `index.html`. Download the file to your computer and open that file up in a text editor of your choice. There should be a line which contains **\\*\\*REPLACE WITH PUBLIC API URL\\*\\***. Replace this string with the url that you wrote down in the last step and then save the file.\n",
    "\n",
    "Now, if you open `index.html` on your local computer, your browser will behave as a local web server and you can use the provided site to interact with your SageMaker model.\n",
    "\n",
    "If you'd like to go further, you can host this html file anywhere you'd like, for example using github or hosting a static site on Amazon's S3. Once you have done this you can share the link with anyone you'd like and have them play with it too!\n",
    "\n",
    "> **Important Note** In order for the web app to communicate with the SageMaker endpoint, the endpoint has to actually be deployed and running. This means that you are paying for it. Make sure that the endpoint is running when you want to use the web app but that you shut it down when you don't need it, otherwise you will end up with a surprisingly large AWS bill.\n",
    "\n",
    "**TODO:** Make sure that you include the edited `index.html` file in your project submission."
   ]
  },
  {
   "cell_type": "markdown",
   "metadata": {},
   "source": [
    "Now that your web app is working, trying playing around with it and see how well it works.\n",
    "\n",
    "**Question**: Give an example of a review that you entered into your web app. What was the predicted sentiment of your example review?"
   ]
  },
  {
   "cell_type": "markdown",
   "metadata": {},
   "source": [
    "**Answer:**"
   ]
  },
  {
   "cell_type": "markdown",
   "metadata": {},
   "source": [
    "### Delete the endpoint\n",
    "\n",
    "Remember to always shut down your endpoint if you are no longer using it. You are charged for the length of time that the endpoint is running so if you forget and leave it on you could end up with an unexpectedly large bill."
   ]
  },
  {
   "cell_type": "code",
   "execution_count": null,
   "metadata": {},
   "outputs": [],
   "source": [
    "predictor.delete_endpoint()"
   ]
  },
  {
   "cell_type": "code",
   "execution_count": null,
   "metadata": {},
   "outputs": [],
   "source": []
  }
 ],
 "metadata": {
  "kernelspec": {
   "display_name": "conda_pytorch_p36",
   "language": "python",
   "name": "conda_pytorch_p36"
  },
  "language_info": {
   "codemirror_mode": {
    "name": "ipython",
    "version": 3
   },
   "file_extension": ".py",
   "mimetype": "text/x-python",
   "name": "python",
   "nbconvert_exporter": "python",
   "pygments_lexer": "ipython3",
   "version": "3.6.5"
  }
 },
 "nbformat": 4,
 "nbformat_minor": 2
}
